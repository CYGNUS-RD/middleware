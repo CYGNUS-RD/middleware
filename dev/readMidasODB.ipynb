{
 "cells": [
  {
   "cell_type": "code",
   "execution_count": 1,
   "id": "df1372fc",
   "metadata": {},
   "outputs": [],
   "source": [
    "import sys \n",
    "import time\n",
    "import datetime\n",
    "import numpy as np\n",
    "import matplotlib.pyplot as plt\n",
    "import pandas as pd"
   ]
  },
  {
   "cell_type": "code",
   "execution_count": 3,
   "id": "1e31075c",
   "metadata": {},
   "outputs": [
    {
     "name": "stdout",
     "output_type": "stream",
     "text": [
      "env: MIDAS_EXPTAB=/home/cygno/DAQ/online/exptab\n",
      "env: MIDAS_EXPT_NAME=CYGNUS_RD\n",
      "env: MYDRIVER_DIR=/home/cygno/DAQ/online/mydrivers\n",
      "env: CAENVME_INCDIR=/usr/local/CAEN/CAENVMELib-2.50/include\n",
      "env: CAENVME_LIBDIR=/usr/local/CAEN/CAENVMELib-2.50/lib/x64\n",
      "env: CAENHV_INCDIR=/usr/local/CAEN/CAENHVWrapper-5.82/include\n",
      "env: CAENHV_LIBDIR=/usr/local/CAEN/CAENHVWrapper-5.82/lib/x64\n",
      "env: ETHERNET_INCDIR=/home/cygno/DAQ/online/mydrivers/ethernet\n",
      "env: CAMERA_INCDIR=/usr/local/dcamsdk4/inc\n",
      "env: CAMERA_LIBDIR=/usr/local/lib\n"
     ]
    }
   ],
   "source": [
    "#\n",
    "# setup MIDAS env equivalent to source setup.sh for jupyter\n",
    "# waring rispetto all'sh il $ non definisce varibili globali che vanno definite come strighe\n",
    "#\n",
    "DAQ_IN_DIR='/home/cygno/DAQ/online'\n",
    "%set_env MIDAS_EXPTAB=$DAQ_IN_DIR/exptab\n",
    "%set_env MIDAS_EXPT_NAME=CYGNUS_RD\n",
    "\n",
    "%set_env MYDRIVER_DIR=$DAQ_IN_DIR/mydrivers\n",
    "\n",
    "CAENVME='/usr/local/CAEN/CAENVMELib-2.50'\n",
    "%set_env CAENVME_INCDIR=$CAENVME/include\n",
    "%set_env CAENVME_LIBDIR=$CAENVME/lib/x64\n",
    "\n",
    "CAENHV='/usr/local/CAEN/CAENHVWrapper-5.82'\n",
    "%set_env CAENHV_INCDIR=$CAENHV/include\n",
    "%set_env CAENHV_LIBDIR=$CAENHV/lib/x64\n",
    "\n",
    "%set_env ETHERNET_INCDIR=$DAQ_IN_DIR/mydrivers/ethernet\n",
    "%set_env CAMERA_INCDIR=/usr/local/dcamsdk4/inc\n",
    "%set_env CAMERA_LIBDIR=/usr/local/lib\n"
   ]
  },
  {
   "cell_type": "code",
   "execution_count": 4,
   "id": "bd574d12",
   "metadata": {},
   "outputs": [
    {
     "name": "stdout",
     "output_type": "stream",
     "text": [
      "The experiment is currently stopped\n"
     ]
    }
   ],
   "source": [
    "# test from jupyter \n",
    "import midas.client\n",
    "\n",
    "\"\"\"\n",
    "A simple example program that connects to a midas experiment,\n",
    "reads an ODB value, then sets an ODB value.\n",
    "\n",
    "Expected output is:\n",
    "\n",
    "```\n",
    "The experiment is currently stopped\n",
    "The new value of /pyexample/eg_float is 5.670000\n",
    "```\n",
    "\"\"\"\n",
    "\n",
    "if __name__ == \"__main__\":\n",
    "    client = midas.client.MidasClient(\"pytest\")\n",
    "\n",
    "    # Read a value from the ODB. The return value is a normal python\n",
    "    # type (an int in this case, but could also be a float, string, bool,\n",
    "    # list or dict).\n",
    "    state = client.odb_get(\"/Runinfo/State\")\n",
    "\n",
    "    if state == midas.STATE_RUNNING:\n",
    "        print(\"The experiment is currently running\")\n",
    "    elif state == midas.STATE_PAUSED:\n",
    "        print(\"The experiment is currently paused\")\n",
    "    elif state == midas.STATE_STOPPED:\n",
    "        print(\"The experiment is currently stopped\")\n",
    "    else:\n",
    "        print(\"The experiment is in an unexpected run state\")"
   ]
  },
  {
   "cell_type": "code",
   "execution_count": 9,
   "id": "ef23a060",
   "metadata": {},
   "outputs": [
    {
     "data": {
      "text/plain": [
       "OrderedDict([('State', 1),\n",
       "             ('Online Mode', 1),\n",
       "             ('Run number', 6633),\n",
       "             ('Transition in progress', 0),\n",
       "             ('Start abort', 0),\n",
       "             ('Requested transition', 0),\n",
       "             ('Start time', 'Mon Nov 22 08:03:38 2021'),\n",
       "             ('Start time binary', 1637564618),\n",
       "             ('Stop time', 'Mon Nov 22 08:05:01 2021'),\n",
       "             ('Stop time binary', 1637564701)])"
      ]
     },
     "execution_count": 9,
     "metadata": {},
     "output_type": "execute_result"
    }
   ],
   "source": [
    "client.odb_get(\"/Runinfo/\")\n",
    "#client.odb_get(\"/Experiment/MAX_EVENT_SIZE\")"
   ]
  },
  {
   "cell_type": "code",
   "execution_count": 7,
   "id": "f77d86e7",
   "metadata": {
    "scrolled": false
   },
   "outputs": [
    {
     "data": {
      "text/plain": [
       "OrderedDict([('Size', 33554432),\n",
       "             ('Write pointer', 28689072),\n",
       "             ('Read pointer', 2904072),\n",
       "             ('Filled', 25785000),\n",
       "             ('Filled pct', 76.84528827667236),\n",
       "             ('Clients',\n",
       "              OrderedDict([('ODBEdit',\n",
       "                            OrderedDict([('count_lock', 2),\n",
       "                                         ('count_sent', 0),\n",
       "                                         ('bytes_sent', 0),\n",
       "                                         ('count_write_wait', 0),\n",
       "                                         ('time_write_wait', '0x00000000'),\n",
       "                                         ('max_bytes_write_wait', 0),\n",
       "                                         ('count_read', 0),\n",
       "                                         ('bytes_read', 0),\n",
       "                                         ('get_all_flag', False),\n",
       "                                         ('read_pointer', 0),\n",
       "                                         ('bytes_used', 0),\n",
       "                                         ('pct_used', 0),\n",
       "                                         ('last_updated', '0x2e299a52')])),\n",
       "                           ('Analyzer',\n",
       "                            OrderedDict([('count_lock', 6147361),\n",
       "                                         ('count_sent', 0),\n",
       "                                         ('bytes_sent', 0),\n",
       "                                         ('count_write_wait', 0),\n",
       "                                         ('time_write_wait', '0x00000000'),\n",
       "                                         ('max_bytes_write_wait', 0),\n",
       "                                         ('count_read', 3901),\n",
       "                                         ('bytes_read', 32724100244.0),\n",
       "                                         ('get_all_flag', False),\n",
       "                                         ('read_pointer', 28071312),\n",
       "                                         ('bytes_used', 617760),\n",
       "                                         ('pct_used', 1.8410682678222656),\n",
       "                                         ('last_updated', '0xa161c440')])),\n",
       "                           ('SC Frontend',\n",
       "                            OrderedDict([('count_lock', 444795),\n",
       "                                         ('count_sent', 14752),\n",
       "                                         ('bytes_sent', 10797696),\n",
       "                                         ('count_write_wait', 0),\n",
       "                                         ('time_write_wait', '0x00000000'),\n",
       "                                         ('max_bytes_write_wait', 0),\n",
       "                                         ('count_read', 0),\n",
       "                                         ('bytes_read', 0),\n",
       "                                         ('get_all_flag', False),\n",
       "                                         ('read_pointer', 2904072),\n",
       "                                         ('bytes_used', 25785000),\n",
       "                                         ('pct_used', 76.84528827667236),\n",
       "                                         ('last_updated', '0x48072f2b')])),\n",
       "                           ('cygnus_daq',\n",
       "                            OrderedDict([('count_lock', 6259993),\n",
       "                                         ('count_sent', 27854),\n",
       "                                         ('bytes_sent', 233657401392.0),\n",
       "                                         ('count_write_wait', 20175),\n",
       "                                         ('time_write_wait', '0x012f1a0a'),\n",
       "                                         ('max_bytes_write_wait', 8388748),\n",
       "                                         ('count_read', 0),\n",
       "                                         ('bytes_read', 0),\n",
       "                                         ('get_all_flag', False),\n",
       "                                         ('read_pointer', 2904072),\n",
       "                                         ('bytes_used', 25785000),\n",
       "                                         ('pct_used', 76.84528827667236),\n",
       "                                         ('last_updated', '0xa161c32d'),\n",
       "                                         ('writes_blocked_by',\n",
       "                                          OrderedDict([('Logger',\n",
       "                                                        OrderedDict([('count_write_wait',\n",
       "                                                                      20175),\n",
       "                                                                     ('time_write_wait',\n",
       "                                                                      '0x012f1a0a')]))]))])),\n",
       "                           ('Logger',\n",
       "                            OrderedDict([('count_lock', 172),\n",
       "                                         ('count_sent', 0),\n",
       "                                         ('bytes_sent', 0),\n",
       "                                         ('count_write_wait', 0),\n",
       "                                         ('time_write_wait', '0x00000000'),\n",
       "                                         ('max_bytes_write_wait', 0),\n",
       "                                         ('count_read', 106),\n",
       "                                         ('bytes_read', 855645720),\n",
       "                                         ('get_all_flag', False),\n",
       "                                         ('read_pointer', 28071312),\n",
       "                                         ('bytes_used', 0),\n",
       "                                         ('pct_used', 0),\n",
       "                                         ('last_updated', '0x467665d6')])),\n",
       "                           ('cygnus_daq1',\n",
       "                            OrderedDict([('count_lock', 8),\n",
       "                                         ('count_sent', 0),\n",
       "                                         ('bytes_sent', 0),\n",
       "                                         ('count_write_wait', 0),\n",
       "                                         ('time_write_wait', '0x00000000'),\n",
       "                                         ('max_bytes_write_wait', 0),\n",
       "                                         ('count_read', 0),\n",
       "                                         ('bytes_read', 0),\n",
       "                                         ('get_all_flag', False),\n",
       "                                         ('read_pointer', 7012424),\n",
       "                                         ('bytes_used', 0),\n",
       "                                         ('pct_used', 0),\n",
       "                                         ('last_updated', '0x05a9771b')])),\n",
       "                           ('SC Frontend1',\n",
       "                            OrderedDict([('count_lock', 740),\n",
       "                                         ('count_sent', 0),\n",
       "                                         ('bytes_sent', 0),\n",
       "                                         ('count_write_wait', 0),\n",
       "                                         ('time_write_wait', '0x00000000'),\n",
       "                                         ('max_bytes_write_wait', 0),\n",
       "                                         ('count_read', 0),\n",
       "                                         ('bytes_read', 0),\n",
       "                                         ('get_all_flag', False),\n",
       "                                         ('read_pointer', 0),\n",
       "                                         ('bytes_used', 0),\n",
       "                                         ('pct_used', 0),\n",
       "                                         ('last_updated', '0x6ca68145')])),\n",
       "                           ('pytest',\n",
       "                            OrderedDict([('count_lock', 7),\n",
       "                                         ('count_sent', 0),\n",
       "                                         ('bytes_sent', 0),\n",
       "                                         ('count_write_wait', 0),\n",
       "                                         ('time_write_wait', '0x00000000'),\n",
       "                                         ('max_bytes_write_wait', 0),\n",
       "                                         ('count_read', 0),\n",
       "                                         ('bytes_read', 0),\n",
       "                                         ('get_all_flag', False),\n",
       "                                         ('read_pointer', 28689072),\n",
       "                                         ('bytes_used', 0),\n",
       "                                         ('pct_used', 0),\n",
       "                                         ('last_updated', '0xa157d063')]))])),\n",
       "             ('Last updated', 2707539008)])"
      ]
     },
     "execution_count": 7,
     "metadata": {},
     "output_type": "execute_result"
    }
   ],
   "source": [
    "client.odb_get(\"/System/Buffers/SYSTEM\")"
   ]
  },
  {
   "cell_type": "code",
   "execution_count": 15,
   "id": "e06e0547",
   "metadata": {},
   "outputs": [],
   "source": [
    "client.disconnect()"
   ]
  },
  {
   "cell_type": "code",
   "execution_count": 15,
   "id": "d583f940",
   "metadata": {},
   "outputs": [],
   "source": [
    "\n",
    "#client = midas.client.MidasClient(\"pytest\")\n",
    "\n",
    "# Define which buffer we want to listen for events on (SYSTEM is the \n",
    "# main midas buffer).\n",
    "buffer_handle = client.open_event_buffer(\"SYSTEM\")\n",
    "\n",
    "# Request events from this buffer that match certain criteria. In this\n",
    "# case we will only be told about events with an \"event ID\" of 14.\n",
    "request_id = client.register_event_request(buffer_handle)\n",
    "\n",
    "# If there's an event ready, `event` will contain a `midas.event.Event`\n",
    "# object. If not, it will be None. If you want to block waiting for an\n",
    "# event to arrive, you could set async_flag to False.\n",
    "event = client.receive_event(buffer_handle, async_flag=True)"
   ]
  }
 ],
 "metadata": {
  "kernelspec": {
   "display_name": "Python 3 (ipykernel)",
   "language": "python",
   "name": "python3"
  },
  "language_info": {
   "codemirror_mode": {
    "name": "ipython",
    "version": 3
   },
   "file_extension": ".py",
   "mimetype": "text/x-python",
   "name": "python",
   "nbconvert_exporter": "python",
   "pygments_lexer": "ipython3",
   "version": "3.9.7"
  }
 },
 "nbformat": 4,
 "nbformat_minor": 5
}
