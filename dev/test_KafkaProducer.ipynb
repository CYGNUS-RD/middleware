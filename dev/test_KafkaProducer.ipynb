{
 "cells": [
  {
   "cell_type": "code",
   "execution_count": 2,
   "id": "e34a1640",
   "metadata": {},
   "outputs": [],
   "source": [
    "#!/usr/bin/env python3\n",
    "#\n",
    "# I. Abritta and G. Mazzitelli March 2022\n",
    "# Middelware online recostruction \n",
    "# Modify by ... in date ...\n",
    "#\n",
    "\n",
    "from matplotlib import pyplot as plt\n",
    "import numpy as np\n",
    "import os\n",
    "import stat\n",
    "from datetime import datetime\n",
    "# import pre_reconstruction as pr\n",
    "import time\n",
    "import pandas as pd\n",
    "import base64\n",
    "import io\n",
    "import json\n",
    "import struct\n",
    "\n",
    "import midas\n",
    "import midas.client\n",
    "\n",
    "import mysql.connector\n",
    "\n",
    "import sys\n",
    "import cygno as cy\n",
    "import multiprocess\n",
    "\n",
    "from json import dumps\n",
    "from kafka import KafkaProducer\n",
    "import cv2\n",
    "import ctypes\n",
    "\n",
    "MAX_CPU_AVAILABLE   = multiprocess.cpu_count()\n",
    "DAQ_ROOT            = os.environ['DAQ_ROOT']\n",
    "DEFAULT_PATH_ONLINE = DAQ_ROOT+'/online/'\n",
    "\n",
    "def image_jpg(image, vmin, vmax, event_number, event_time, producer):\n",
    "    \n",
    "    im = plt.imshow(image, cmap='gray', vmin=vmin, vmax=vmax)\n",
    "    plt.title (\"Event: {:d} at {:s}\".format(event_number, event_time))\n",
    "    plt.savefig(DEFAULT_PATH_ONLINE+'custom/tmp.png')\n",
    "\n",
    "    with open(DEFAULT_PATH_ONLINE+'custom/tmp.png', 'rb') as f:\n",
    "        img_bytes = f.read()\n",
    "    \n",
    "    #image_to_kafka = base64.b64encode(cv2.imencode('.jpg', img)[1]).decode()\n",
    "    img_base64 = base64.b64encode(img_bytes).decode('utf-8')\n",
    "    producer.send('image-topic', value=img_base64.encode('utf-8'))\n",
    "    \n",
    "    return \n",
    "\n",
    "def push_panda_table_sql(connection, table_name, df):\n",
    "    try:\n",
    "        mycursor=connection.cursor()\n",
    "        mycursor.execute(\"SHOW TABLES LIKE '\"+table_name+\"'\")\n",
    "        result = mycursor.fetchone()\n",
    "        if not result:\n",
    "            cols = \"`,`\".join([str(i) for i in df.columns.tolist()])\n",
    "            db_to_crete = \"CREATE TABLE `\"+table_name+\"` (\"+' '.join([\"`\"+x+\"` REAL,\" for x in df.columns.tolist()])[:-1]+\")\"\n",
    "            print (\"[Table {:s} created into SQL Server]\".format(table_name))\n",
    "            mycursor = connection.cursor()\n",
    "            mycursor.execute(db_to_crete)\n",
    "\n",
    "        cols = \"`,`\".join([str(i) for i in df.columns.tolist()])\n",
    "\n",
    "        for i,row in df.iterrows():\n",
    "            sql = \"INSERT INTO `\"+table_name+\"` (`\" +cols + \"`) VALUES (\" + \"%s,\"*(len(row)-1) + \"%s)\"\n",
    "            mycursor.execute(sql, tuple(row.astype(str)))\n",
    "            connection.commit()\n",
    "\n",
    "        mycursor.close()\n",
    "        return 0 \n",
    "    except:\n",
    "        return -1\n",
    "\n",
    "def init_sql():\n",
    "    import os\n",
    "    import mysql.connector\n",
    "    # init sql variabile and connector\n",
    "    try:\n",
    "        connection = mysql.connector.connect(\n",
    "          host=os.environ['MYSQL_IP'],\n",
    "          user=os.environ['MYSQL_USER'],\n",
    "          password=os.environ['MYSQL_PASSWORD'],\n",
    "          database=os.environ['MYSQL_DATABASE'],\n",
    "          port=int(os.environ['MYSQL_PORT'])\n",
    "        )\n",
    "        return connection\n",
    "    except:\n",
    "        return -1\n"
   ]
  },
  {
   "cell_type": "code",
   "execution_count": 3,
   "id": "5342024d",
   "metadata": {},
   "outputs": [
    {
     "name": "stdout",
     "output_type": "stream",
     "text": [
      "ODB elapsed: 0.09, payload size 75.9 kb\n",
      "EVENT elapsed: 4.05, payload size 0.0 Mb\n",
      "ODB elapsed: 0.14, payload size 75.9 kb\n",
      "EVENT elapsed: 4.11, payload size 0.0 Mb\n",
      "ODB elapsed: 0.12, payload size 75.9 kb\n",
      "EVENT elapsed: 4.17, payload size 0.0 Mb\n",
      "test\n",
      "ODB elapsed: 0.12, payload size 75.9 kb\n",
      "EVENT elapsed: 4.15, payload size 0.0 Mb\n",
      "ODB elapsed: 0.05, payload size 75.9 kb\n",
      "EVENT elapsed: -0.00, payload size 0.0 Mb\n",
      "ODB elapsed: 0.09, payload size 75.9 kb\n",
      "EVENT elapsed: 4.11, payload size 0.0 Mb\n",
      "test\n",
      "ODB elapsed: 0.16, payload size 75.9 kb\n",
      "EVENT elapsed: 4.08, payload size 0.0 Mb\n",
      "Midas shutdown\n"
     ]
    },
    {
     "ename": "NameError",
     "evalue": "name 'exit' is not defined",
     "output_type": "error",
     "traceback": [
      "\u001b[0;31m---------------------------------------------------------------------------\u001b[0m",
      "\u001b[0;31mMidasError\u001b[0m                                Traceback (most recent call last)",
      "File \u001b[0;32m/home/software/midas/python/midas/client.py:230\u001b[0m, in \u001b[0;36mMidasClient.communicate\u001b[0;34m(self, time_ms)\u001b[0m\n\u001b[1;32m    229\u001b[0m \u001b[38;5;28;01mtry\u001b[39;00m:\n\u001b[0;32m--> 230\u001b[0m     \u001b[38;5;28;43mself\u001b[39;49m\u001b[38;5;241;43m.\u001b[39;49m\u001b[43mlib\u001b[49m\u001b[38;5;241;43m.\u001b[39;49m\u001b[43mc_cm_yield\u001b[49m\u001b[43m(\u001b[49m\u001b[43mc_time_ms\u001b[49m\u001b[43m)\u001b[49m\n\u001b[1;32m    231\u001b[0m \u001b[38;5;28;01mexcept\u001b[39;00m midas\u001b[38;5;241m.\u001b[39mMidasError \u001b[38;5;28;01mas\u001b[39;00m e:\n",
      "File \u001b[0;32m/home/software/midas/python/midas/__init__.py:483\u001b[0m, in \u001b[0;36mMidasLib.midas_errcheck\u001b[0;34m(self, ret, func, args)\u001b[0m\n\u001b[1;32m    482\u001b[0m \u001b[38;5;66;03m# This will raise an exception if needed\u001b[39;00m\n\u001b[0;32m--> 483\u001b[0m \u001b[43mstatus_code_to_exception\u001b[49m\u001b[43m(\u001b[49m\u001b[43mret\u001b[49m\u001b[43m,\u001b[49m\u001b[43m \u001b[49m\u001b[43mignore_list\u001b[49m\u001b[43m,\u001b[49m\u001b[43m \u001b[49m\u001b[43mkeyname\u001b[49m\u001b[43m)\u001b[49m\n\u001b[1;32m    485\u001b[0m \u001b[38;5;28;01mreturn\u001b[39;00m ret\n",
      "File \u001b[0;32m/home/software/midas/python/midas/__init__.py:533\u001b[0m, in \u001b[0;36mstatus_code_to_exception\u001b[0;34m(code, ignore, keyname)\u001b[0m\n\u001b[1;32m    532\u001b[0m message \u001b[38;5;241m=\u001b[39m status_code_to_text(code)\n\u001b[0;32m--> 533\u001b[0m \u001b[38;5;28;01mraise\u001b[39;00m MidasError(code, message)\n",
      "\u001b[0;31mMidasError\u001b[0m: (509, 'RPC_SHUTDOWN')",
      "\nDuring handling of the above exception, another exception occurred:\n",
      "\u001b[0;31mNameError\u001b[0m                                 Traceback (most recent call last)",
      "Input \u001b[0;32mIn [3]\u001b[0m, in \u001b[0;36m<cell line: 45>\u001b[0;34m()\u001b[0m\n\u001b[1;32m    101\u001b[0m                 \u001b[38;5;28mprint\u001b[39m(\u001b[38;5;124m\"\u001b[39m\u001b[38;5;124mtest\u001b[39m\u001b[38;5;124m\"\u001b[39m)\n\u001b[1;32m    102\u001b[0m                 \u001b[38;5;66;03m#image_jpg(image, vmin, vmax, event_number, event_time, producerb)\u001b[39;00m\n\u001b[1;32m    103\u001b[0m \n\u001b[1;32m    104\u001b[0m \u001b[38;5;66;03m#             if 'INPT' in bank_names:                \u001b[39;00m\n\u001b[0;32m   (...)\u001b[0m\n\u001b[1;32m    121\u001b[0m \u001b[38;5;66;03m#             if event_number%100==0:\u001b[39;00m\n\u001b[1;32m    122\u001b[0m \u001b[38;5;66;03m#                 print (\"midware alive\", event_number)\u001b[39;00m\n\u001b[0;32m--> 124\u001b[0m     \u001b[43mclient\u001b[49m\u001b[38;5;241;43m.\u001b[39;49m\u001b[43mcommunicate\u001b[49m\u001b[43m(\u001b[49m\u001b[38;5;241;43m10\u001b[39;49m\u001b[43m)\u001b[49m\n\u001b[1;32m    125\u001b[0m     time\u001b[38;5;241m.\u001b[39msleep(\u001b[38;5;241m0.1\u001b[39m)\n\u001b[1;32m    128\u001b[0m client\u001b[38;5;241m.\u001b[39mderegister_event_request(buffer_handle, request_id)\n",
      "File \u001b[0;32m/home/software/midas/python/midas/client.py:235\u001b[0m, in \u001b[0;36mMidasClient.communicate\u001b[0;34m(self, time_ms)\u001b[0m\n\u001b[1;32m    233\u001b[0m     \u001b[38;5;28mprint\u001b[39m(\u001b[38;5;124m\"\u001b[39m\u001b[38;5;124mMidas shutdown\u001b[39m\u001b[38;5;124m\"\u001b[39m)\n\u001b[1;32m    234\u001b[0m     \u001b[38;5;28mself\u001b[39m\u001b[38;5;241m.\u001b[39mdisconnect()\n\u001b[0;32m--> 235\u001b[0m     \u001b[43mexit\u001b[49m(\u001b[38;5;241m0\u001b[39m)\n\u001b[1;32m    236\u001b[0m \u001b[38;5;28;01melse\u001b[39;00m:\n\u001b[1;32m    237\u001b[0m     \u001b[38;5;28;01mraise\u001b[39;00m\n",
      "\u001b[0;31mNameError\u001b[0m: name 'exit' is not defined"
     ]
    }
   ],
   "source": [
    "producer = KafkaProducer(\n",
    "    bootstrap_servers=['localhost:9092'],\n",
    "    value_serializer=lambda x: dumps(x).encode('utf-8')\n",
    ")\n",
    "producerb = KafkaProducer(\n",
    "    bootstrap_servers=['localhost:9092'],\n",
    "    #value_serializer=lambda m: json.dumps(m).encode('ascii'),\n",
    "    #value_serializer=lambda v: dumps(v).encode('utf-8'),\n",
    "    max_request_size= 31457280, #15728640,\n",
    "    max_block_ms=300000\n",
    ")\n",
    "\n",
    "\n",
    "client = midas.client.MidasClient(\"middleware\")\n",
    "buffer_handle = client.open_event_buffer(\"SYSTEM\",None,1000000000)\n",
    "request_id = client.register_event_request(buffer_handle, sampling_type = 2) #midas.GET_SOME)\n",
    "\n",
    "# init program variables #####\n",
    "t0 = time.time()\n",
    "vmin         = 95\n",
    "vmax         = 130\n",
    "connection   =-1\n",
    "max_try      = 3\n",
    "header_event = [\n",
    "    'timestamp',\n",
    "    'serial_number',\n",
    "    'event_id']\n",
    "#AG         = os.environ['TAG']\n",
    "###############################\n",
    "\n",
    "# global run useful varibles\n",
    "header_environment = client.odb_get(\"/Equipment/Environment/Settings/Names Input\")\n",
    "header_environment = header_event + header_environment\n",
    "#\n",
    "n_try=0\n",
    "while connection == -1 and n_try<=max_try:\n",
    "    connection = init_sql()\n",
    "    time.sleep(1)\n",
    "    n_try+=1\n",
    "if connection == -1:\n",
    "    print (int(time.time()), \"ERROR SQL connaction fail...\")\n",
    "    exit(-1)\n",
    "\n",
    "while 5:\n",
    "    start = time.time()\n",
    "    event = client.receive_event(buffer_handle, async_flag=True)\n",
    "#        state         = client.odb_get(\"/Runinfo/State\")\n",
    "\n",
    "    odb_json = dumps(client.odb_get(\"/\"))\n",
    "    producer.send('midas-odb', value=odb_json)\n",
    "    end = time.time()\n",
    "    print(\"ODB elapsed: {:.2f}, payload size {:.1f} kb\".format(end-start, len(odb_json.encode('utf-8'))/1024))\n",
    "\n",
    "    start = time.time()\n",
    "\n",
    "    if event is not None:\n",
    "        if event.header.is_midas_internal_event():\n",
    "            if verbose:\n",
    "                print(\"Saw a special event\")\n",
    "            continue\n",
    "\n",
    "        pyload       = event.pack()\n",
    "        #packed_event = event.pack()\n",
    "        \n",
    "        binary_data = io.BytesIO()\n",
    "        binary_data.write(pyload)\n",
    "        binary_data.seek(0)\n",
    "        encoded_data = binary_data.read()\n",
    "        \n",
    "        #bytes_object = bytes(ctypes.cast(packed_event, ctypes.POINTER(ctypes.c_char * len(packed_event))).contents)\n",
    "        \n",
    "        producerb.send('midas-event', value=(encoded_data))\n",
    "        producerb.flush()\n",
    "\n",
    "\n",
    "        bank_names    = \", \".join(b.name for b in event.banks.values())\n",
    "        if 'CAM0' in bank_names:\n",
    "            payload = list(event.banks['CAM0'].data)#[0:2500000]\n",
    "\n",
    "\n",
    "            #producerb.send('midas-event', value=(payload))\n",
    "            #producerb.flush()\n",
    "\n",
    "            end = time.time()\n",
    "        print(\"EVENT elapsed: {:.2f}, payload size {:.1f} Mb\".format(end-start, np.size(encoded_data)/1024/1024))\n",
    "        #print(\"EVENT elapsed: {:.2f}, payload size {:.1f} Mb encoded {:.1f} Mb\".format(end-start, np.size(pyload)/1024/1024, np.size(encoded_data)/1024/1024))\n",
    "\n",
    "\n",
    "        # global event useful variables\n",
    "        bank_names    = \", \".join(b.name for b in event.banks.values())\n",
    "        event_info    = [event.header.timestamp, event.header.serial_number, event.header.event_id]\n",
    "        run_number    = client.odb_get(\"/Runinfo/Run number\")\n",
    "        event_number  = event.header.serial_number\n",
    "        event_time    = datetime.fromtimestamp(event.header.timestamp).strftime('%Y-%m-%d %H:%M:%S')\n",
    "\n",
    "\n",
    "        if 'CAM0' in bank_names: # CAM image\n",
    "            image, _, _ = cy.daq_cam2array(event.banks['CAM0']) # matrice delle imagine\n",
    "            image_update_time = client.odb_get(\"/middleware/image_update_time\")\n",
    "            if int(time.time())%image_update_time==0:\n",
    "                print(\"test\")\n",
    "                #image_jpg(image, vmin, vmax, event_number, event_time, producerb)\n",
    "\n",
    "#             if 'INPT' in bank_names:                \n",
    "#                 value = [event_info + list(event.banks['INPT'].data)]\n",
    "#                 try:\n",
    "#                     producer.send('slow_control', value=value)\n",
    "#                 except:\n",
    "#                     print (int(time.time()), \"KAFKA ERROR...\")\n",
    "\n",
    "#                 de = pd.DataFrame(value, columns = header_environment)\n",
    "#                 table_name_sc = \"SlowControl\"\n",
    "#                 n_try=0\n",
    "#                 while push_panda_table_sql(connection,table_name_sc, de) == -1 and n_try<=max_try:\n",
    "#                     time.sleep(1)\n",
    "#                     connection = init_sql()\n",
    "#                     print (int(time.time()), \"ERROR SQL push_panda_table_sql fail...\", n_try, connection)\n",
    "#                 n_try+=1\n",
    "#                 if n_try==max_try:\n",
    "#                     exit(-1)\n",
    "#             if event_number%100==0:\n",
    "#                 print (\"midware alive\", event_number)\n",
    "\n",
    "    client.communicate(10)\n",
    "    time.sleep(0.1)\n",
    "\n",
    "\n",
    "client.deregister_event_request(buffer_handle, request_id)\n",
    "\n",
    "client.disconnect()"
   ]
  },
  {
   "cell_type": "code",
   "execution_count": 20,
   "id": "90ca040c",
   "metadata": {},
   "outputs": [
    {
     "data": {
      "text/plain": [
       "bytes"
      ]
     },
     "execution_count": 20,
     "metadata": {},
     "output_type": "execute_result"
    }
   ],
   "source": [
    "type(encoded_data)"
   ]
  },
  {
   "cell_type": "code",
   "execution_count": 20,
   "id": "4397017e",
   "metadata": {},
   "outputs": [
    {
     "data": {
      "text/plain": [
       "10616868"
      ]
     },
     "execution_count": 20,
     "metadata": {},
     "output_type": "execute_result"
    }
   ],
   "source": [
    "len(packed_event)"
   ]
  },
  {
   "cell_type": "code",
   "execution_count": 22,
   "id": "fac44322",
   "metadata": {},
   "outputs": [],
   "source": [
    "from midas import event\n",
    "event2 = midas.event.Event()\n",
    "event2.unpack(packed_event, use_numpy=False)"
   ]
  },
  {
   "cell_type": "code",
   "execution_count": 25,
   "id": "8cc2d539",
   "metadata": {},
   "outputs": [
    {
     "data": {
      "text/plain": [
       "1680277098"
      ]
     },
     "execution_count": 25,
     "metadata": {},
     "output_type": "execute_result"
    }
   ],
   "source": [
    "event2.header.timestamp"
   ]
  },
  {
   "cell_type": "code",
   "execution_count": 3,
   "id": "ee7a0a52",
   "metadata": {},
   "outputs": [
    {
     "name": "stdout",
     "output_type": "stream",
     "text": [
      "ODB elapsed: 0.12, payload size 75.9 kb\n",
      "EVENT elapsed: 4.00, payload size 0.0 Mb\n",
      "ODB elapsed: 0.12, payload size 75.9 kb\n",
      "EVENT elapsed: 4.03, payload size 0.0 Mb\n",
      "Midas shutdown\n"
     ]
    },
    {
     "ename": "NameError",
     "evalue": "name 'exit' is not defined",
     "output_type": "error",
     "traceback": [
      "\u001b[0;31m---------------------------------------------------------------------------\u001b[0m",
      "\u001b[0;31mMidasError\u001b[0m                                Traceback (most recent call last)",
      "File \u001b[0;32m/home/software/midas/python/midas/client.py:230\u001b[0m, in \u001b[0;36mMidasClient.communicate\u001b[0;34m(self, time_ms)\u001b[0m\n\u001b[1;32m    229\u001b[0m \u001b[38;5;28;01mtry\u001b[39;00m:\n\u001b[0;32m--> 230\u001b[0m     \u001b[38;5;28;43mself\u001b[39;49m\u001b[38;5;241;43m.\u001b[39;49m\u001b[43mlib\u001b[49m\u001b[38;5;241;43m.\u001b[39;49m\u001b[43mc_cm_yield\u001b[49m\u001b[43m(\u001b[49m\u001b[43mc_time_ms\u001b[49m\u001b[43m)\u001b[49m\n\u001b[1;32m    231\u001b[0m \u001b[38;5;28;01mexcept\u001b[39;00m midas\u001b[38;5;241m.\u001b[39mMidasError \u001b[38;5;28;01mas\u001b[39;00m e:\n",
      "File \u001b[0;32m/home/software/midas/python/midas/__init__.py:483\u001b[0m, in \u001b[0;36mMidasLib.midas_errcheck\u001b[0;34m(self, ret, func, args)\u001b[0m\n\u001b[1;32m    482\u001b[0m \u001b[38;5;66;03m# This will raise an exception if needed\u001b[39;00m\n\u001b[0;32m--> 483\u001b[0m \u001b[43mstatus_code_to_exception\u001b[49m\u001b[43m(\u001b[49m\u001b[43mret\u001b[49m\u001b[43m,\u001b[49m\u001b[43m \u001b[49m\u001b[43mignore_list\u001b[49m\u001b[43m,\u001b[49m\u001b[43m \u001b[49m\u001b[43mkeyname\u001b[49m\u001b[43m)\u001b[49m\n\u001b[1;32m    485\u001b[0m \u001b[38;5;28;01mreturn\u001b[39;00m ret\n",
      "File \u001b[0;32m/home/software/midas/python/midas/__init__.py:533\u001b[0m, in \u001b[0;36mstatus_code_to_exception\u001b[0;34m(code, ignore, keyname)\u001b[0m\n\u001b[1;32m    532\u001b[0m message \u001b[38;5;241m=\u001b[39m status_code_to_text(code)\n\u001b[0;32m--> 533\u001b[0m \u001b[38;5;28;01mraise\u001b[39;00m MidasError(code, message)\n",
      "\u001b[0;31mMidasError\u001b[0m: (509, 'RPC_SHUTDOWN')",
      "\nDuring handling of the above exception, another exception occurred:\n",
      "\u001b[0;31mNameError\u001b[0m                                 Traceback (most recent call last)",
      "Input \u001b[0;32mIn [3]\u001b[0m, in \u001b[0;36m<cell line: 5>\u001b[0;34m()\u001b[0m\n\u001b[1;32m      1\u001b[0m \u001b[38;5;28;01mfrom\u001b[39;00m \u001b[38;5;21;01moptparse\u001b[39;00m \u001b[38;5;28;01mimport\u001b[39;00m OptionParser\n\u001b[1;32m      2\u001b[0m \u001b[38;5;66;03m#parser = OptionParser(usage='usage: %prog\\t ')\u001b[39;00m\n\u001b[1;32m      3\u001b[0m \u001b[38;5;66;03m#parser.add_option('-v','--verbose', dest='verbose', action=\"store_true\", default=False, help='verbose output;');\u001b[39;00m\n\u001b[1;32m      4\u001b[0m \u001b[38;5;66;03m#(options, args) = parser.parse_args()\u001b[39;00m\n\u001b[0;32m----> 5\u001b[0m \u001b[43mmain\u001b[49m\u001b[43m(\u001b[49m\u001b[43mverbose\u001b[49m\u001b[38;5;241;43m=\u001b[39;49m\u001b[38;5;28;43;01mTrue\u001b[39;49;00m\u001b[43m)\u001b[49m\n",
      "Input \u001b[0;32mIn [2]\u001b[0m, in \u001b[0;36mmain\u001b[0;34m(verbose)\u001b[0m\n\u001b[1;32m     97\u001b[0m                     \u001b[38;5;28mprint\u001b[39m(\u001b[38;5;124m\"\u001b[39m\u001b[38;5;124mtest\u001b[39m\u001b[38;5;124m\"\u001b[39m)\n\u001b[1;32m     98\u001b[0m                     \u001b[38;5;66;03m#image_jpg(image, vmin, vmax, event_number, event_time, producerb)\u001b[39;00m\n\u001b[1;32m     99\u001b[0m \n\u001b[1;32m    100\u001b[0m \u001b[38;5;66;03m#             if 'INPT' in bank_names:                \u001b[39;00m\n\u001b[0;32m   (...)\u001b[0m\n\u001b[1;32m    117\u001b[0m \u001b[38;5;66;03m#             if event_number%100==0:\u001b[39;00m\n\u001b[1;32m    118\u001b[0m \u001b[38;5;66;03m#                 print (\"midware alive\", event_number)\u001b[39;00m\n\u001b[0;32m--> 120\u001b[0m         \u001b[43mclient\u001b[49m\u001b[38;5;241;43m.\u001b[39;49m\u001b[43mcommunicate\u001b[49m\u001b[43m(\u001b[49m\u001b[38;5;241;43m10\u001b[39;49m\u001b[43m)\u001b[49m\n\u001b[1;32m    121\u001b[0m         time\u001b[38;5;241m.\u001b[39msleep(\u001b[38;5;241m0.1\u001b[39m)\n\u001b[1;32m    124\u001b[0m     client\u001b[38;5;241m.\u001b[39mderegister_event_request(buffer_handle, request_id)\n",
      "File \u001b[0;32m/home/software/midas/python/midas/client.py:235\u001b[0m, in \u001b[0;36mMidasClient.communicate\u001b[0;34m(self, time_ms)\u001b[0m\n\u001b[1;32m    233\u001b[0m     \u001b[38;5;28mprint\u001b[39m(\u001b[38;5;124m\"\u001b[39m\u001b[38;5;124mMidas shutdown\u001b[39m\u001b[38;5;124m\"\u001b[39m)\n\u001b[1;32m    234\u001b[0m     \u001b[38;5;28mself\u001b[39m\u001b[38;5;241m.\u001b[39mdisconnect()\n\u001b[0;32m--> 235\u001b[0m     \u001b[43mexit\u001b[49m(\u001b[38;5;241m0\u001b[39m)\n\u001b[1;32m    236\u001b[0m \u001b[38;5;28;01melse\u001b[39;00m:\n\u001b[1;32m    237\u001b[0m     \u001b[38;5;28;01mraise\u001b[39;00m\n",
      "\u001b[0;31mNameError\u001b[0m: name 'exit' is not defined"
     ]
    }
   ],
   "source": [
    "pyload = event.pack()\n",
    "binary_data = io.BytesIO()\n",
    "binary_data.write(pyload)\n",
    "binary_data.seek(0)\n",
    "encoded_data = binary_data.read()\n",
    "producerb.send('midas-event', value=(encoded_data))\n",
    "producerb.flush()\n"
   ]
  },
  {
   "cell_type": "code",
   "execution_count": 12,
   "id": "cb986a3a",
   "metadata": {},
   "outputs": [],
   "source": [
    "client.disconnect()"
   ]
  },
  {
   "cell_type": "code",
   "execution_count": 26,
   "id": "55eef77b",
   "metadata": {},
   "outputs": [
    {
     "name": "stdout",
     "output_type": "stream",
     "text": [
      "<class 'bytes'>\n",
      "b'Hello, world!\\n'\n",
      "<class 'memoryview'>\n",
      "b'\\xffello, world!\\n'\n"
     ]
    }
   ],
   "source": [
    "binary_stream = io.BytesIO()\n",
    "# Binary data and strings are different types, so a str\n",
    "# must be encoded to binary using ascii, utf-8, or other.\n",
    "binary_stream.write(\"Hello, world!\\n\".encode('ascii'))\n",
    "#binary_stream.write(\"Hello, world!\\n\".encode('utf-8'))\n",
    "\n",
    "# Move cursor back to the beginning of the buffer\n",
    "binary_stream.seek(0)\n",
    "\n",
    "# Read all data from the buffer\n",
    "stream_data = binary_stream.read()\n",
    "\n",
    "# The stream_data is type 'bytes', immutable\n",
    "print(type(stream_data))\n",
    "print(stream_data)\n",
    "\n",
    "# To modify the actual contents of the existing buffer\n",
    "# use getbuffer() to get an object you can modify.\n",
    "# Modifying this object updates the underlying BytesIO buffer\n",
    "mutable_buffer = binary_stream.getbuffer()\n",
    "print(type(mutable_buffer))  # class 'memoryview'\n",
    "mutable_buffer[0] = 0xFF\n",
    "\n",
    "# Re-read the original stream. Contents will be modified\n",
    "# because we modified the mutable buffer\n",
    "binary_stream.seek(0)\n",
    "print(binary_stream.read())"
   ]
  },
  {
   "cell_type": "code",
   "execution_count": 28,
   "id": "c14150e0",
   "metadata": {},
   "outputs": [
    {
     "ename": "NameError",
     "evalue": "name 'ctypes' is not defined",
     "output_type": "error",
     "traceback": [
      "\u001b[0;31m---------------------------------------------------------------------------\u001b[0m",
      "\u001b[0;31mNameError\u001b[0m                                 Traceback (most recent call last)",
      "Input \u001b[0;32mIn [28]\u001b[0m, in \u001b[0;36m<cell line: 1>\u001b[0;34m()\u001b[0m\n\u001b[0;32m----> 1\u001b[0m bytes_object \u001b[38;5;241m=\u001b[39m \u001b[38;5;28mbytes\u001b[39m(\u001b[43mctypes\u001b[49m\u001b[38;5;241m.\u001b[39mcast(packed_event, ctypes\u001b[38;5;241m.\u001b[39mPOINTER(ctypes\u001b[38;5;241m.\u001b[39mc_char \u001b[38;5;241m*\u001b[39m \u001b[38;5;28mlen\u001b[39m(packed_event)))\u001b[38;5;241m.\u001b[39mcontents)\n",
      "\u001b[0;31mNameError\u001b[0m: name 'ctypes' is not defined"
     ]
    }
   ],
   "source": [
    "bytes_object = bytes(ctypes.cast(packed_event, ctypes.POINTER(ctypes.c_char * len(packed_event))).contents)"
   ]
  },
  {
   "cell_type": "code",
   "execution_count": null,
   "id": "c08b6af8",
   "metadata": {},
   "outputs": [],
   "source": []
  }
 ],
 "metadata": {
  "kernelspec": {
   "display_name": "Python 3 (ipykernel)",
   "language": "python",
   "name": "python3"
  },
  "language_info": {
   "codemirror_mode": {
    "name": "ipython",
    "version": 3
   },
   "file_extension": ".py",
   "mimetype": "text/x-python",
   "name": "python",
   "nbconvert_exporter": "python",
   "pygments_lexer": "ipython3",
   "version": "3.8.10"
  }
 },
 "nbformat": 4,
 "nbformat_minor": 5
}
