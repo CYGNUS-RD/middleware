{
 "cells": [
  {
   "cell_type": "code",
   "execution_count": 1,
   "id": "86fe4708",
   "metadata": {},
   "outputs": [],
   "source": [
    "import numpy as np\n",
    "pedarr_fr = np.load(\"pedarr_0.1.npy\")"
   ]
  },
  {
   "cell_type": "code",
   "execution_count": 2,
   "id": "a2f4781a",
   "metadata": {},
   "outputs": [
    {
     "data": {
      "text/plain": [
       "array([[3.29568106, 1.31893688, 2.17607973, ..., 0.52491694, 1.07973422,\n",
       "        0.74086379],\n",
       "       [2.06644518, 1.77076412, 1.56478405, ..., 2.6744186 , 1.71428571,\n",
       "        1.91694352],\n",
       "       [1.45182724, 1.79734219, 2.51162791, ..., 0.89368771, 1.71428571,\n",
       "        1.23255814],\n",
       "       ...,\n",
       "       [2.28571429, 3.94019934, 1.98006645, ..., 2.07641196, 2.67109635,\n",
       "        4.53488372],\n",
       "       [2.82724252, 1.8372093 , 1.86710963, ..., 1.72425249, 1.52159468,\n",
       "        2.72757475],\n",
       "       [2.34551495, 3.19601329, 1.42524917, ..., 1.35880399, 1.48837209,\n",
       "        1.6013289 ]])"
      ]
     },
     "execution_count": 2,
     "metadata": {},
     "output_type": "execute_result"
    }
   ],
   "source": [
    "pedarr_fr - 99*np.ones((2304,2304),dtype=int)"
   ]
  },
  {
   "cell_type": "code",
   "execution_count": 5,
   "id": "6883cbc2",
   "metadata": {},
   "outputs": [
    {
     "data": {
      "text/plain": [
       "'pedarr_0.5.npy'"
      ]
     },
     "execution_count": 5,
     "metadata": {},
     "output_type": "execute_result"
    }
   ],
   "source": [
    "exposure_time = 0.50122132300000\n",
    "\n",
    "\"pedarr_%.1f.npy\" % exposure_time"
   ]
  },
  {
   "cell_type": "code",
   "execution_count": 6,
   "id": "d31e9d2c",
   "metadata": {},
   "outputs": [],
   "source": [
    "imgsum = 534606915"
   ]
  },
  {
   "cell_type": "code",
   "execution_count": 7,
   "id": "3a5004d5",
   "metadata": {},
   "outputs": [
    {
     "data": {
      "text/plain": [
       "100.70931046097367"
      ]
     },
     "execution_count": 7,
     "metadata": {},
     "output_type": "execute_result"
    }
   ],
   "source": [
    "imgsum/(2304*2304)"
   ]
  },
  {
   "cell_type": "code",
   "execution_count": 12,
   "id": "a86fbc2f",
   "metadata": {},
   "outputs": [],
   "source": [
    "test=(2304*2304*100)+(9000000)"
   ]
  },
  {
   "cell_type": "code",
   "execution_count": 14,
   "id": "1a4c9f64",
   "metadata": {},
   "outputs": [
    {
     "data": {
      "text/plain": [
       "101.69542100694444"
      ]
     },
     "execution_count": 14,
     "metadata": {},
     "output_type": "execute_result"
    }
   ],
   "source": [
    "test/(2304*2304)"
   ]
  },
  {
   "cell_type": "code",
   "execution_count": 15,
   "id": "021d1d96",
   "metadata": {},
   "outputs": [],
   "source": [
    "header_event = [\n",
    "        'timestamp',\n",
    "        'serial_number',\n",
    "        'event_id']"
   ]
  },
  {
   "cell_type": "code",
   "execution_count": 17,
   "id": "fdf46c96",
   "metadata": {},
   "outputs": [
    {
     "data": {
      "text/plain": [
       "['timestamp',\n",
       " 'serial_number',\n",
       " 'event_id',\n",
       " 'timestamp',\n",
       " 'serial_number',\n",
       " 'event_id']"
      ]
     },
     "execution_count": 17,
     "metadata": {},
     "output_type": "execute_result"
    }
   ],
   "source": [
    "header_event + header_event"
   ]
  },
  {
   "cell_type": "code",
   "execution_count": 26,
   "id": "b07bfb01",
   "metadata": {},
   "outputs": [],
   "source": [
    "value = [[1654003814, 243, 5, 9.633169174194336, 12.998294830322266, 3.9678878784179688, 12.976810455322266, 0.0006990623660385609, 0.0006277463398873806, 0.0006560701876878738, 0.0006783287972211838, 0.0, 2.3843116760253906, 2.7992289066314697, 1.3048487901687622, 3.6441304683685303, -2.431321144104004, 2.590749740600586, -0.038592591881752014, -0.41470539569854736, 0.0, -0.0011191586963832378, -0.001153978519141674, -0.0011990196071565151, -0.0011293101124465466, -0.0011189840734004974, -0.001149880699813366, -0.0011494033969938755, -0.001100730150938034, 0.0]]"
   ]
  },
  {
   "cell_type": "code",
   "execution_count": 27,
   "id": "dd9faf2d",
   "metadata": {},
   "outputs": [
    {
     "data": {
      "text/plain": [
       "[[1654003814,\n",
       "  243,\n",
       "  5,\n",
       "  9.633169174194336,\n",
       "  12.998294830322266,\n",
       "  3.9678878784179688,\n",
       "  12.976810455322266,\n",
       "  0.0006990623660385609,\n",
       "  0.0006277463398873806,\n",
       "  0.0006560701876878738,\n",
       "  0.0006783287972211838,\n",
       "  0.0,\n",
       "  2.3843116760253906,\n",
       "  2.7992289066314697,\n",
       "  1.3048487901687622,\n",
       "  3.6441304683685303,\n",
       "  -2.431321144104004,\n",
       "  2.590749740600586,\n",
       "  -0.038592591881752014,\n",
       "  -0.41470539569854736,\n",
       "  0.0,\n",
       "  -0.0011191586963832378,\n",
       "  -0.001153978519141674,\n",
       "  -0.0011990196071565151,\n",
       "  -0.0011293101124465466,\n",
       "  -0.0011189840734004974,\n",
       "  -0.001149880699813366,\n",
       "  -0.0011494033969938755,\n",
       "  -0.001100730150938034,\n",
       "  0.0]]"
      ]
     },
     "execution_count": 27,
     "metadata": {},
     "output_type": "execute_result"
    }
   ],
   "source": [
    "value"
   ]
  },
  {
   "cell_type": "code",
   "execution_count": 20,
   "id": "1db47c5d",
   "metadata": {},
   "outputs": [],
   "source": [
    "header = ['P0IIn0', 'P0IIn1', 'P0IIn2', 'Humidity', 'P0IIn4', 'P0IIn5', 'P0IIn6', 'P0IIn7', 'P0Calib', 'P1UIn0', 'P1UIn1', 'P1UIn2', 'P1UIn3', 'P1UIn4', 'P1UIn5', 'P1UIn6', 'P1UIn7', 'P1Calib', 'P3IIn0', 'P3IIn1', 'P3IIn2', 'P3IIn3', 'P3IIn4', 'P3IIn5', 'P3IIn6', 'P3IIn7', 'P3Calib', 'timestamp', 'serial_number', 'event_id']"
   ]
  },
  {
   "cell_type": "code",
   "execution_count": 25,
   "id": "905f738b",
   "metadata": {},
   "outputs": [
    {
     "ename": "AttributeError",
     "evalue": "'list' object has no attribute 't'",
     "output_type": "error",
     "traceback": [
      "\u001b[0;31m---------------------------------------------------------------------------\u001b[0m",
      "\u001b[0;31mAttributeError\u001b[0m                            Traceback (most recent call last)",
      "Input \u001b[0;32mIn [25]\u001b[0m, in \u001b[0;36m<cell line: 1>\u001b[0;34m()\u001b[0m\n\u001b[0;32m----> 1\u001b[0m \u001b[43mheader\u001b[49m\u001b[38;5;241;43m.\u001b[39;49m\u001b[43mt\u001b[49m\n",
      "\u001b[0;31mAttributeError\u001b[0m: 'list' object has no attribute 't'"
     ]
    }
   ],
   "source": [
    "header"
   ]
  },
  {
   "cell_type": "code",
   "execution_count": 28,
   "id": "26eb8425",
   "metadata": {},
   "outputs": [],
   "source": [
    "import pandas as pd\n",
    "de = pd.DataFrame(value, columns = header)"
   ]
  },
  {
   "cell_type": "code",
   "execution_count": 32,
   "id": "a542feee",
   "metadata": {},
   "outputs": [
    {
     "data": {
      "text/plain": [
       "'pedarr_10.0.npy'"
      ]
     },
     "execution_count": 32,
     "metadata": {},
     "output_type": "execute_result"
    }
   ],
   "source": [
    "exposure_time = 10\n",
    "\"pedarr_%.1f.npy\" % exposure_time"
   ]
  },
  {
   "cell_type": "code",
   "execution_count": null,
   "id": "b4bb7af8",
   "metadata": {},
   "outputs": [],
   "source": []
  },
  {
   "cell_type": "code",
   "execution_count": null,
   "id": "c7f78c05",
   "metadata": {},
   "outputs": [],
   "source": []
  }
 ],
 "metadata": {
  "kernelspec": {
   "display_name": "Python 3 (ipykernel)",
   "language": "python",
   "name": "python3"
  },
  "language_info": {
   "codemirror_mode": {
    "name": "ipython",
    "version": 3
   },
   "file_extension": ".py",
   "mimetype": "text/x-python",
   "name": "python",
   "nbconvert_exporter": "python",
   "pygments_lexer": "ipython3",
   "version": "3.8.10"
  }
 },
 "nbformat": 4,
 "nbformat_minor": 5
}
