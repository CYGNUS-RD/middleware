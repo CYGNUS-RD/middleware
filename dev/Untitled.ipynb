{
 "cells": [
  {
   "cell_type": "code",
   "execution_count": 36,
   "id": "06babe66",
   "metadata": {},
   "outputs": [],
   "source": [
    "import datetime\n",
    "row = (10519, 'S003:DATA:TestSQL', datetime.datetime(2023, 3, 1, 17, 19, 19), 0.3, 420.0, 420.0, 420.0, 500.0, 500.0, 996.0, 10.0, 772.0, 772.0, 800.0, 770.0, 1, 20.0, datetime.datetime(2023, 3, 1, 17, 21, 40), 12.0, 1, 1, -1, 47891075, 'e74f2fe9be285fd833473d872a47a9a7', 'LNGS', -1)"
   ]
  },
  {
   "cell_type": "code",
   "execution_count": 4,
   "id": "567af40d",
   "metadata": {},
   "outputs": [
    {
     "data": {
      "text/plain": [
       "(10519,\n",
       " 'S003:DATA:TestSQL',\n",
       " datetime.datetime(2023, 3, 1, 17, 19, 19),\n",
       " 0.3,\n",
       " 420.0,\n",
       " 420.0,\n",
       " 420.0,\n",
       " 500.0,\n",
       " 500.0,\n",
       " 996.0,\n",
       " 10.0,\n",
       " 772.0,\n",
       " 772.0,\n",
       " 800.0,\n",
       " 770.0,\n",
       " 1,\n",
       " 20.0,\n",
       " datetime.datetime(2023, 3, 1, 17, 21, 40),\n",
       " 12.0,\n",
       " 1,\n",
       " 1,\n",
       " -1,\n",
       " 47891075,\n",
       " 'e74f2fe9be285fd833473d872a47a9a7',\n",
       " 'LNGS',\n",
       " -1)"
      ]
     },
     "execution_count": 4,
     "metadata": {},
     "output_type": "execute_result"
    }
   ],
   "source": [
    "row"
   ]
  },
  {
   "cell_type": "code",
   "execution_count": 26,
   "id": "362fe111",
   "metadata": {},
   "outputs": [
    {
     "name": "stdout",
     "output_type": "stream",
     "text": [
      "[10519, 'S003:DATA:TestSQL', datetime.datetime(2023, 3, 1, 17, 19, 19), 0.3, 420.0, 420.0, 420.0, 500.0, 500.0, 996.0, 10.0, 772.0, 772.0, 800.0, 770.0, 1, 20.0, datetime.datetime(2023, 3, 1, 17, 21, 40), 12.0, 1, 1, -1, 47891075, 'e74f2fe9be285fd833473d872a47a9a7', 'LNGS', -1]\n",
      "0 10519\n",
      "1 S003:DATA:TestSQL\n",
      "2 2023-03-01 17:19:19\n",
      "3 0.3\n",
      "4 420.0\n",
      "5 420.0\n",
      "6 420.0\n",
      "7 500.0\n",
      "8 500.0\n",
      "9 996.0\n",
      "10 10.0\n",
      "11 772.0\n",
      "12 772.0\n",
      "13 800.0\n",
      "14 770.0\n",
      "15 1\n",
      "16 20.0\n",
      "17 2023-03-01 17:21:40\n",
      "18 12.0\n",
      "19 1\n",
      "20 1\n",
      "21 -1\n",
      "22 47891075\n",
      "23 e74f2fe9be285fd833473d872a47a9a7\n",
      "24 LNGS\n",
      "25 -1\n"
     ]
    },
    {
     "data": {
      "text/plain": [
       "[10519,\n",
       " 'S003:DATA:TestSQL',\n",
       " datetime.datetime(2023, 3, 1, 17, 19, 19),\n",
       " 0.3,\n",
       " 420.0,\n",
       " 420.0,\n",
       " 420.0,\n",
       " 500.0,\n",
       " 500.0,\n",
       " 996.0,\n",
       " 10.0,\n",
       " 772.0,\n",
       " 772.0,\n",
       " 800.0,\n",
       " 770.0,\n",
       " 1,\n",
       " 20.0,\n",
       " datetime.datetime(2023, 3, 1, 17, 21, 40),\n",
       " 12.0,\n",
       " 1,\n",
       " 1,\n",
       " -1,\n",
       " 47891075,\n",
       " 'e74f2fe9be285fd833473d872a47a9a7',\n",
       " 'LNGS',\n",
       " -1]"
      ]
     },
     "execution_count": 26,
     "metadata": {},
     "output_type": "execute_result"
    }
   ],
   "source": [
    "row_list = list(row)\n",
    "\n",
    "for i,data in enumerate(row_list):\n",
    "    print(i,data)\n",
    "    if \"datetime.datetime\" in str(data):\n",
    "        print(data)\n",
    "        data = data.strftime('%Y-%m-%d %H:%M:%S')\n",
    "        print(data)\n",
    "        row_list[i] = data\n",
    "        print(row_list[i])\n",
    "        \n",
    "row_list"
   ]
  },
  {
   "cell_type": "code",
   "execution_count": 29,
   "id": "dda0e4ec",
   "metadata": {},
   "outputs": [],
   "source": [
    "row_list = list(row)"
   ]
  },
  {
   "cell_type": "code",
   "execution_count": 32,
   "id": "333c47ea",
   "metadata": {},
   "outputs": [
    {
     "data": {
      "text/plain": [
       "'2023-03-01 17:19:19'"
      ]
     },
     "execution_count": 32,
     "metadata": {},
     "output_type": "execute_result"
    }
   ],
   "source": [
    "str(row_list[2])"
   ]
  },
  {
   "cell_type": "code",
   "execution_count": 17,
   "id": "510be3a5",
   "metadata": {},
   "outputs": [
    {
     "data": {
      "text/plain": [
       "[10519,\n",
       " 'S003:DATA:TestSQL',\n",
       " 'pippo',\n",
       " 0.3,\n",
       " 420.0,\n",
       " 420.0,\n",
       " 420.0,\n",
       " 500.0,\n",
       " 500.0,\n",
       " 996.0,\n",
       " 10.0,\n",
       " 772.0,\n",
       " 772.0,\n",
       " 800.0,\n",
       " 770.0,\n",
       " 1,\n",
       " 20.0,\n",
       " datetime.datetime(2023, 3, 1, 17, 21, 40),\n",
       " 12.0,\n",
       " 1,\n",
       " 1,\n",
       " -1,\n",
       " 47891075,\n",
       " 'e74f2fe9be285fd833473d872a47a9a7',\n",
       " 'LNGS',\n",
       " -1]"
      ]
     },
     "execution_count": 17,
     "metadata": {},
     "output_type": "execute_result"
    }
   ],
   "source": [
    "row_list"
   ]
  },
  {
   "cell_type": "code",
   "execution_count": 37,
   "id": "4d3c0fc7",
   "metadata": {},
   "outputs": [
    {
     "data": {
      "text/plain": [
       "(10519,\n",
       " 'S003:DATA:TestSQL',\n",
       " '2023-03-01 17:19:19',\n",
       " 0.3,\n",
       " 420.0,\n",
       " 420.0,\n",
       " 420.0,\n",
       " 500.0,\n",
       " 500.0,\n",
       " 996.0,\n",
       " 10.0,\n",
       " 772.0,\n",
       " 772.0,\n",
       " 800.0,\n",
       " 770.0,\n",
       " 1,\n",
       " 20.0,\n",
       " '2023-03-01 17:21:40',\n",
       " 12.0,\n",
       " 1,\n",
       " 1,\n",
       " -1,\n",
       " 47891075,\n",
       " 'e74f2fe9be285fd833473d872a47a9a7',\n",
       " 'LNGS',\n",
       " -1)"
      ]
     },
     "execution_count": 37,
     "metadata": {},
     "output_type": "execute_result"
    }
   ],
   "source": [
    "row_list = []\n",
    "\n",
    "for i,data in enumerate(row):\n",
    "    if isinstance(data, datetime.datetime):\n",
    "        data = data.strftime('%Y-%m-%d %H:%M:%S')\n",
    "    row_list.append(data)\n",
    "row = tuple(row_list)\n",
    "row"
   ]
  },
  {
   "cell_type": "code",
   "execution_count": 57,
   "id": "d724f830",
   "metadata": {},
   "outputs": [],
   "source": [
    "cols = ('run_number', 'run_description', 'start_time', 'exposure_sec', 'GEM3_V', 'GEM2_V', 'GEM1_V', 'T2_V', 'T1_V', 'DRIFT_V', 'OFFSET_V', 'PMT1_V', 'PMT2_V', 'PMT3_V', 'PMT4_V', 'HV_STATE', 'total_gas_flow', 'stop_time', 'number_of_events', 'storage_local_status', 'storage_cloud_status', 'storage_tape_status', 'file_size', 'file_checksum', 'file_s3_tag', 'online_reco_status')"
   ]
  },
  {
   "cell_type": "code",
   "execution_count": 62,
   "id": "6b818c73",
   "metadata": {},
   "outputs": [],
   "source": [
    "cols = \"`,`\".join([str(i) for i in list(cols)])"
   ]
  },
  {
   "cell_type": "code",
   "execution_count": 63,
   "id": "e982bfb0",
   "metadata": {},
   "outputs": [],
   "source": [
    "table_name = \"ippo\""
   ]
  },
  {
   "cell_type": "code",
   "execution_count": 67,
   "id": "fadeeec6",
   "metadata": {},
   "outputs": [],
   "source": [
    "sql = \"INSERT INTO `\"+table_name+\"` (`\" +cols+ \"`) VALUES \"+str(row)"
   ]
  },
  {
   "cell_type": "code",
   "execution_count": 68,
   "id": "6d78a8d6",
   "metadata": {},
   "outputs": [
    {
     "data": {
      "text/plain": [
       "\"INSERT INTO `ippo` (`run_number`,`run_description`,`start_time`,`exposure_sec`,`GEM3_V`,`GEM2_V`,`GEM1_V`,`T2_V`,`T1_V`,`DRIFT_V`,`OFFSET_V`,`PMT1_V`,`PMT2_V`,`PMT3_V`,`PMT4_V`,`HV_STATE`,`total_gas_flow`,`stop_time`,`number_of_events`,`storage_local_status`,`storage_cloud_status`,`storage_tape_status`,`file_size`,`file_checksum`,`file_s3_tag`,`online_reco_status`) VALUES (10519, 'S003:DATA:TestSQL', '2023-03-01 17:19:19', 0.3, 420.0, 420.0, 420.0, 500.0, 500.0, 996.0, 10.0, 772.0, 772.0, 800.0, 770.0, 1, 20.0, '2023-03-01 17:21:40', 12.0, 1, 1, -1, 47891075, 'e74f2fe9be285fd833473d872a47a9a7', 'LNGS', -1)\""
      ]
     },
     "execution_count": 68,
     "metadata": {},
     "output_type": "execute_result"
    }
   ],
   "source": [
    "sql"
   ]
  },
  {
   "cell_type": "code",
   "execution_count": null,
   "id": "8eecd970",
   "metadata": {},
   "outputs": [],
   "source": []
  }
 ],
 "metadata": {
  "kernelspec": {
   "display_name": "Python 3 (ipykernel)",
   "language": "python",
   "name": "python3"
  },
  "language_info": {
   "codemirror_mode": {
    "name": "ipython",
    "version": 3
   },
   "file_extension": ".py",
   "mimetype": "text/x-python",
   "name": "python",
   "nbconvert_exporter": "python",
   "pygments_lexer": "ipython3",
   "version": "3.8.10"
  }
 },
 "nbformat": 4,
 "nbformat_minor": 5
}
