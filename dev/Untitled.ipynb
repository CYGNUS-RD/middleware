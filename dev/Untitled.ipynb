{
 "cells": [
  {
   "cell_type": "code",
   "execution_count": 1,
   "id": "86fe4708",
   "metadata": {},
   "outputs": [],
   "source": [
    "import numpy as np\n",
    "pedarr_fr = np.load(\"pedarr_0.1.npy\")"
   ]
  },
  {
   "cell_type": "code",
   "execution_count": 2,
   "id": "a2f4781a",
   "metadata": {},
   "outputs": [
    {
     "data": {
      "text/plain": [
       "array([[3.29568106, 1.31893688, 2.17607973, ..., 0.52491694, 1.07973422,\n",
       "        0.74086379],\n",
       "       [2.06644518, 1.77076412, 1.56478405, ..., 2.6744186 , 1.71428571,\n",
       "        1.91694352],\n",
       "       [1.45182724, 1.79734219, 2.51162791, ..., 0.89368771, 1.71428571,\n",
       "        1.23255814],\n",
       "       ...,\n",
       "       [2.28571429, 3.94019934, 1.98006645, ..., 2.07641196, 2.67109635,\n",
       "        4.53488372],\n",
       "       [2.82724252, 1.8372093 , 1.86710963, ..., 1.72425249, 1.52159468,\n",
       "        2.72757475],\n",
       "       [2.34551495, 3.19601329, 1.42524917, ..., 1.35880399, 1.48837209,\n",
       "        1.6013289 ]])"
      ]
     },
     "execution_count": 2,
     "metadata": {},
     "output_type": "execute_result"
    }
   ],
   "source": [
    "pedarr_fr - 99*np.ones((2304,2304),dtype=int)"
   ]
  },
  {
   "cell_type": "code",
   "execution_count": 5,
   "id": "6883cbc2",
   "metadata": {},
   "outputs": [
    {
     "data": {
      "text/plain": [
       "'pedarr_0.5.npy'"
      ]
     },
     "execution_count": 5,
     "metadata": {},
     "output_type": "execute_result"
    }
   ],
   "source": [
    "exposure_time = 0.50122132300000\n",
    "\n",
    "\"pedarr_%.1f.npy\" % exposure_time"
   ]
  },
  {
   "cell_type": "code",
   "execution_count": 6,
   "id": "d31e9d2c",
   "metadata": {},
   "outputs": [],
   "source": [
    "imgsum = 534606915"
   ]
  },
  {
   "cell_type": "code",
   "execution_count": 7,
   "id": "3a5004d5",
   "metadata": {},
   "outputs": [
    {
     "data": {
      "text/plain": [
       "100.70931046097367"
      ]
     },
     "execution_count": 7,
     "metadata": {},
     "output_type": "execute_result"
    }
   ],
   "source": [
    "imgsum/(2304*2304)"
   ]
  },
  {
   "cell_type": "code",
   "execution_count": 12,
   "id": "a86fbc2f",
   "metadata": {},
   "outputs": [],
   "source": [
    "test=(2304*2304*100)+(9000000)"
   ]
  },
  {
   "cell_type": "code",
   "execution_count": 14,
   "id": "1a4c9f64",
   "metadata": {},
   "outputs": [
    {
     "data": {
      "text/plain": [
       "101.69542100694444"
      ]
     },
     "execution_count": 14,
     "metadata": {},
     "output_type": "execute_result"
    }
   ],
   "source": [
    "test/(2304*2304)"
   ]
  },
  {
   "cell_type": "code",
   "execution_count": 15,
   "id": "021d1d96",
   "metadata": {},
   "outputs": [],
   "source": [
    "header_event = [\n",
    "        'timestamp',\n",
    "        'serial_number',\n",
    "        'event_id']"
   ]
  },
  {
   "cell_type": "code",
   "execution_count": 17,
   "id": "fdf46c96",
   "metadata": {},
   "outputs": [
    {
     "data": {
      "text/plain": [
       "['timestamp',\n",
       " 'serial_number',\n",
       " 'event_id',\n",
       " 'timestamp',\n",
       " 'serial_number',\n",
       " 'event_id']"
      ]
     },
     "execution_count": 17,
     "metadata": {},
     "output_type": "execute_result"
    }
   ],
   "source": [
    "header_event + header_event"
   ]
  },
  {
   "cell_type": "code",
   "execution_count": 26,
   "id": "b07bfb01",
   "metadata": {},
   "outputs": [],
   "source": [
    "value = [[1654003814, 243, 5, 9.633169174194336, 12.998294830322266, 3.9678878784179688, 12.976810455322266, 0.0006990623660385609, 0.0006277463398873806, 0.0006560701876878738, 0.0006783287972211838, 0.0, 2.3843116760253906, 2.7992289066314697, 1.3048487901687622, 3.6441304683685303, -2.431321144104004, 2.590749740600586, -0.038592591881752014, -0.41470539569854736, 0.0, -0.0011191586963832378, -0.001153978519141674, -0.0011990196071565151, -0.0011293101124465466, -0.0011189840734004974, -0.001149880699813366, -0.0011494033969938755, -0.001100730150938034, 0.0]]"
   ]
  },
  {
   "cell_type": "code",
   "execution_count": 27,
   "id": "dd9faf2d",
   "metadata": {},
   "outputs": [
    {
     "data": {
      "text/plain": [
       "[[1654003814,\n",
       "  243,\n",
       "  5,\n",
       "  9.633169174194336,\n",
       "  12.998294830322266,\n",
       "  3.9678878784179688,\n",
       "  12.976810455322266,\n",
       "  0.0006990623660385609,\n",
       "  0.0006277463398873806,\n",
       "  0.0006560701876878738,\n",
       "  0.0006783287972211838,\n",
       "  0.0,\n",
       "  2.3843116760253906,\n",
       "  2.7992289066314697,\n",
       "  1.3048487901687622,\n",
       "  3.6441304683685303,\n",
       "  -2.431321144104004,\n",
       "  2.590749740600586,\n",
       "  -0.038592591881752014,\n",
       "  -0.41470539569854736,\n",
       "  0.0,\n",
       "  -0.0011191586963832378,\n",
       "  -0.001153978519141674,\n",
       "  -0.0011990196071565151,\n",
       "  -0.0011293101124465466,\n",
       "  -0.0011189840734004974,\n",
       "  -0.001149880699813366,\n",
       "  -0.0011494033969938755,\n",
       "  -0.001100730150938034,\n",
       "  0.0]]"
      ]
     },
     "execution_count": 27,
     "metadata": {},
     "output_type": "execute_result"
    }
   ],
   "source": [
    "value"
   ]
  },
  {
   "cell_type": "code",
   "execution_count": 20,
   "id": "1db47c5d",
   "metadata": {},
   "outputs": [],
   "source": [
    "header = ['P0IIn0', 'P0IIn1', 'P0IIn2', 'Humidity', 'P0IIn4', 'P0IIn5', 'P0IIn6', 'P0IIn7', 'P0Calib', 'P1UIn0', 'P1UIn1', 'P1UIn2', 'P1UIn3', 'P1UIn4', 'P1UIn5', 'P1UIn6', 'P1UIn7', 'P1Calib', 'P3IIn0', 'P3IIn1', 'P3IIn2', 'P3IIn3', 'P3IIn4', 'P3IIn5', 'P3IIn6', 'P3IIn7', 'P3Calib', 'timestamp', 'serial_number', 'event_id']"
   ]
  },
  {
   "cell_type": "code",
   "execution_count": 25,
   "id": "905f738b",
   "metadata": {},
   "outputs": [
    {
     "ename": "AttributeError",
     "evalue": "'list' object has no attribute 't'",
     "output_type": "error",
     "traceback": [
      "\u001b[0;31m---------------------------------------------------------------------------\u001b[0m",
      "\u001b[0;31mAttributeError\u001b[0m                            Traceback (most recent call last)",
      "Input \u001b[0;32mIn [25]\u001b[0m, in \u001b[0;36m<cell line: 1>\u001b[0;34m()\u001b[0m\n\u001b[0;32m----> 1\u001b[0m \u001b[43mheader\u001b[49m\u001b[38;5;241;43m.\u001b[39;49m\u001b[43mt\u001b[49m\n",
      "\u001b[0;31mAttributeError\u001b[0m: 'list' object has no attribute 't'"
     ]
    }
   ],
   "source": [
    "header"
   ]
  },
  {
   "cell_type": "code",
   "execution_count": 28,
   "id": "26eb8425",
   "metadata": {},
   "outputs": [],
   "source": [
    "import pandas as pd\n",
    "de = pd.DataFrame(value, columns = header)"
   ]
  },
  {
   "cell_type": "code",
   "execution_count": 32,
   "id": "a542feee",
   "metadata": {},
   "outputs": [
    {
     "data": {
      "text/plain": [
       "'pedarr_10.0.npy'"
      ]
     },
     "execution_count": 32,
     "metadata": {},
     "output_type": "execute_result"
    }
   ],
   "source": [
    "exposure_time = 10\n",
    "\"pedarr_%.1f.npy\" % exposure_time"
   ]
  },
  {
   "cell_type": "code",
   "execution_count": null,
   "id": "b4bb7af8",
   "metadata": {},
   "outputs": [],
   "source": []
  },
  {
   "cell_type": "code",
   "execution_count": null,
   "id": "c7f78c05",
   "metadata": {},
   "outputs": [],
   "source": []
  },
  {
   "cell_type": "code",
   "execution_count": null,
   "id": "34d0cce9",
   "metadata": {},
   "outputs": [],
   "source": []
  },
  {
   "cell_type": "code",
   "execution_count": 1,
   "id": "8b6861c0",
   "metadata": {},
   "outputs": [],
   "source": [
    "import matplotlib.pyplot as plt\n",
    "from matplotlib.ticker import (LinearLocator, MultipleLocator, FormatStrFormatter,AutoMinorLocator)\n",
    "import midas.file_reader\n",
    "import cygno as cy\n",
    "\n",
    "#from datetime import datetime\n",
    "#import numpy as np\n",
    "#from matplotlib import pyplot as plt"
   ]
  },
  {
   "cell_type": "code",
   "execution_count": 2,
   "id": "1d127edf",
   "metadata": {},
   "outputs": [
    {
     "name": "stdout",
     "output_type": "stream",
     "text": [
      "/run00955.mid.gz\n",
      "/run00955.mid.gz\n",
      "Saw a special event\n"
     ]
    },
    {
     "ename": "UnicodeDecodeError",
     "evalue": "'ascii' codec can't decode byte 0x99 in position 0: ordinal not in range(128)",
     "output_type": "error",
     "traceback": [
      "\u001b[0;31m---------------------------------------------------------------------------\u001b[0m",
      "\u001b[0;31mUnicodeDecodeError\u001b[0m                        Traceback (most recent call last)",
      "Input \u001b[0;32mIn [2]\u001b[0m, in \u001b[0;36m<cell line: 8>\u001b[0;34m()\u001b[0m\n\u001b[1;32m      4\u001b[0m nimage \u001b[38;5;241m=\u001b[39m \u001b[38;5;241m0\u001b[39m \u001b[38;5;66;03m# number of the image\u001b[39;00m\n\u001b[1;32m      6\u001b[0m mfile \u001b[38;5;241m=\u001b[39m cy\u001b[38;5;241m.\u001b[39mopen_mid(run\u001b[38;5;241m=\u001b[39mrun, path\u001b[38;5;241m=\u001b[39m\u001b[38;5;124m'\u001b[39m\u001b[38;5;124m/data01/data/\u001b[39m\u001b[38;5;124m'\u001b[39m, cloud\u001b[38;5;241m=\u001b[39m\u001b[38;5;28;01mFalse\u001b[39;00m, tag\u001b[38;5;241m=\u001b[39m\u001b[38;5;124m'\u001b[39m\u001b[38;5;124mLNGS\u001b[39m\u001b[38;5;124m'\u001b[39m, verbose\u001b[38;5;241m=\u001b[39m\u001b[38;5;28;01mTrue\u001b[39;00m)\n\u001b[0;32m----> 8\u001b[0m \u001b[38;5;28;01mfor\u001b[39;00m event \u001b[38;5;129;01min\u001b[39;00m mfile:\n\u001b[1;32m      9\u001b[0m     \u001b[38;5;28;01mif\u001b[39;00m event\u001b[38;5;241m.\u001b[39mheader\u001b[38;5;241m.\u001b[39mis_midas_internal_event():\n\u001b[1;32m     10\u001b[0m         \u001b[38;5;28mprint\u001b[39m(\u001b[38;5;124m\"\u001b[39m\u001b[38;5;124mSaw a special event\u001b[39m\u001b[38;5;124m\"\u001b[39m)\n",
      "File \u001b[0;32m~/packages/midas/python/midas/file_reader.py:160\u001b[0m, in \u001b[0;36mMidasFile.__next__\u001b[0;34m(self)\u001b[0m\n\u001b[1;32m    156\u001b[0m \u001b[38;5;28;01mdef\u001b[39;00m \u001b[38;5;21m__next__\u001b[39m(\u001b[38;5;28mself\u001b[39m):\n\u001b[1;32m    157\u001b[0m     \u001b[38;5;124;03m\"\"\"\u001b[39;00m\n\u001b[1;32m    158\u001b[0m \u001b[38;5;124;03m    Iterable interface for looping through events.\u001b[39;00m\n\u001b[1;32m    159\u001b[0m \u001b[38;5;124;03m    \"\"\"\u001b[39;00m\n\u001b[0;32m--> 160\u001b[0m     ev \u001b[38;5;241m=\u001b[39m \u001b[38;5;28;43mself\u001b[39;49m\u001b[38;5;241;43m.\u001b[39;49m\u001b[43mread_next_event\u001b[49m\u001b[43m(\u001b[49m\u001b[43m)\u001b[49m\n\u001b[1;32m    162\u001b[0m     \u001b[38;5;28;01mif\u001b[39;00m \u001b[38;5;129;01mnot\u001b[39;00m ev:\n\u001b[1;32m    163\u001b[0m         \u001b[38;5;28;01mraise\u001b[39;00m \u001b[38;5;167;01mStopIteration\u001b[39;00m()\n",
      "File \u001b[0;32m~/packages/midas/python/midas/file_reader.py:267\u001b[0m, in \u001b[0;36mMidasFile.read_next_event\u001b[0;34m(self)\u001b[0m\n\u001b[1;32m    259\u001b[0m \u001b[38;5;124;03m\"\"\"\u001b[39;00m\n\u001b[1;32m    260\u001b[0m \u001b[38;5;124;03mRead the header and content of the next event.\u001b[39;00m\n\u001b[1;32m    261\u001b[0m \u001b[38;5;124;03mMay be slow if there is a lot of data.\u001b[39;00m\n\u001b[0;32m   (...)\u001b[0m\n\u001b[1;32m    264\u001b[0m \u001b[38;5;124;03m    `Event`, of None if no more events left.\u001b[39;00m\n\u001b[1;32m    265\u001b[0m \u001b[38;5;124;03m\"\"\"\u001b[39;00m\n\u001b[1;32m    266\u001b[0m \u001b[38;5;28;01mif\u001b[39;00m \u001b[38;5;28mself\u001b[39m\u001b[38;5;241m.\u001b[39mread_next_event_header():\n\u001b[0;32m--> 267\u001b[0m     \u001b[38;5;28;01mreturn\u001b[39;00m \u001b[38;5;28;43mself\u001b[39;49m\u001b[38;5;241;43m.\u001b[39;49m\u001b[43mread_this_event_body\u001b[49m\u001b[43m(\u001b[49m\u001b[43m)\u001b[49m\n\u001b[1;32m    268\u001b[0m \u001b[38;5;28;01melse\u001b[39;00m:\n\u001b[1;32m    269\u001b[0m     \u001b[38;5;28;01mreturn\u001b[39;00m \u001b[38;5;28;01mNone\u001b[39;00m\n",
      "File \u001b[0;32m~/packages/midas/python/midas/file_reader.py:310\u001b[0m, in \u001b[0;36mMidasFile.read_this_event_body\u001b[0;34m(self)\u001b[0m\n\u001b[1;32m    308\u001b[0m \u001b[38;5;28mself\u001b[39m\u001b[38;5;241m.\u001b[39mfile\u001b[38;5;241m.\u001b[39mseek(\u001b[38;5;28mself\u001b[39m\u001b[38;5;241m.\u001b[39mthis_event_payload_offset, \u001b[38;5;241m0\u001b[39m)\n\u001b[1;32m    309\u001b[0m body_data \u001b[38;5;241m=\u001b[39m \u001b[38;5;28mself\u001b[39m\u001b[38;5;241m.\u001b[39mfile\u001b[38;5;241m.\u001b[39mread(\u001b[38;5;28mself\u001b[39m\u001b[38;5;241m.\u001b[39mevent\u001b[38;5;241m.\u001b[39mheader\u001b[38;5;241m.\u001b[39mevent_data_size_bytes)\n\u001b[0;32m--> 310\u001b[0m \u001b[38;5;28;43mself\u001b[39;49m\u001b[38;5;241;43m.\u001b[39;49m\u001b[43mevent\u001b[49m\u001b[38;5;241;43m.\u001b[39;49m\u001b[43munpack_body\u001b[49m\u001b[43m(\u001b[49m\u001b[43mbody_data\u001b[49m\u001b[43m,\u001b[49m\u001b[43m \u001b[49m\u001b[38;5;241;43m0\u001b[39;49m\u001b[43m,\u001b[49m\u001b[43m \u001b[49m\u001b[38;5;28;43mself\u001b[39;49m\u001b[38;5;241;43m.\u001b[39;49m\u001b[43muse_numpy\u001b[49m\u001b[43m)\u001b[49m\n\u001b[1;32m    311\u001b[0m \u001b[38;5;28;01mreturn\u001b[39;00m \u001b[38;5;28mself\u001b[39m\u001b[38;5;241m.\u001b[39mevent\n",
      "File \u001b[0;32m~/packages/midas/python/midas/event.py:648\u001b[0m, in \u001b[0;36mEvent.unpack_body\u001b[0;34m(self, buf, buf_offset, use_numpy)\u001b[0m\n\u001b[1;32m    645\u001b[0m buf_offset \u001b[38;5;241m+\u001b[39m\u001b[38;5;241m=\u001b[39m \u001b[38;5;28mself\u001b[39m\u001b[38;5;241m.\u001b[39mget_bank_header_size()\n\u001b[1;32m    647\u001b[0m bank \u001b[38;5;241m=\u001b[39m midas\u001b[38;5;241m.\u001b[39mevent\u001b[38;5;241m.\u001b[39mBank()\n\u001b[0;32m--> 648\u001b[0m \u001b[43mbank\u001b[49m\u001b[38;5;241;43m.\u001b[39;49m\u001b[43mfill_header_from_bytes\u001b[49m\u001b[43m(\u001b[49m\u001b[43mbank_header_data\u001b[49m\u001b[43m,\u001b[49m\u001b[43m \u001b[49m\u001b[38;5;28;43mself\u001b[39;49m\u001b[38;5;241;43m.\u001b[39;49m\u001b[43mis_bank_32\u001b[49m\u001b[43m(\u001b[49m\u001b[43m)\u001b[49m\u001b[43m,\u001b[49m\u001b[43m \u001b[49m\u001b[38;5;28;43mself\u001b[39;49m\u001b[38;5;241;43m.\u001b[39;49m\u001b[43mis_bank_data_64bit_aligned\u001b[49m\u001b[43m(\u001b[49m\u001b[43m)\u001b[49m\u001b[43m)\u001b[49m\n\u001b[1;32m    650\u001b[0m raw_data \u001b[38;5;241m=\u001b[39m buf[buf_offset:buf_offset\u001b[38;5;241m+\u001b[39mbank\u001b[38;5;241m.\u001b[39msize_bytes]\n\u001b[1;32m    651\u001b[0m buf_offset \u001b[38;5;241m+\u001b[39m\u001b[38;5;241m=\u001b[39m bank\u001b[38;5;241m.\u001b[39msize_bytes\n",
      "File \u001b[0;32m~/packages/midas/python/midas/event.py:298\u001b[0m, in \u001b[0;36mBank.fill_header_from_bytes\u001b[0;34m(self, bank_header_data, is_bank_32, is_64bit_aligned)\u001b[0m\n\u001b[1;32m    282\u001b[0m \u001b[38;5;124;03m\"\"\"\u001b[39;00m\n\u001b[1;32m    283\u001b[0m \u001b[38;5;124;03mFill this `EventHeader` object from a set of bytes.\u001b[39;00m\n\u001b[1;32m    284\u001b[0m \u001b[38;5;124;03m\u001b[39;00m\n\u001b[0;32m   (...)\u001b[0m\n\u001b[1;32m    294\u001b[0m \u001b[38;5;124;03m    None (but the attributes of this object have been filled)\u001b[39;00m\n\u001b[1;32m    295\u001b[0m \u001b[38;5;124;03m\"\"\"\u001b[39;00m\n\u001b[1;32m    296\u001b[0m unpacked \u001b[38;5;241m=\u001b[39m struct\u001b[38;5;241m.\u001b[39munpack(\u001b[38;5;28mself\u001b[39m\u001b[38;5;241m.\u001b[39mget_pack_fmt(is_bank_32, is_64bit_aligned), bank_header_data)\n\u001b[0;32m--> 298\u001b[0m \u001b[38;5;28mself\u001b[39m\u001b[38;5;241m.\u001b[39mname \u001b[38;5;241m=\u001b[39m \u001b[38;5;124;43m\"\u001b[39;49m\u001b[38;5;124;43m\"\u001b[39;49m\u001b[38;5;241;43m.\u001b[39;49m\u001b[43mjoin\u001b[49m\u001b[43m(\u001b[49m\u001b[43mx\u001b[49m\u001b[38;5;241;43m.\u001b[39;49m\u001b[43mdecode\u001b[49m\u001b[43m(\u001b[49m\u001b[38;5;124;43m'\u001b[39;49m\u001b[38;5;124;43mascii\u001b[39;49m\u001b[38;5;124;43m'\u001b[39;49m\u001b[43m)\u001b[49m\u001b[43m \u001b[49m\u001b[38;5;28;43;01mfor\u001b[39;49;00m\u001b[43m \u001b[49m\u001b[43mx\u001b[49m\u001b[43m \u001b[49m\u001b[38;5;129;43;01min\u001b[39;49;00m\u001b[43m \u001b[49m\u001b[43munpacked\u001b[49m\u001b[43m[\u001b[49m\u001b[43m:\u001b[49m\u001b[38;5;241;43m4\u001b[39;49m\u001b[43m]\u001b[49m\u001b[43m)\u001b[49m\n\u001b[1;32m    299\u001b[0m \u001b[38;5;28mself\u001b[39m\u001b[38;5;241m.\u001b[39mtype \u001b[38;5;241m=\u001b[39m unpacked[\u001b[38;5;241m4\u001b[39m]\n\u001b[1;32m    300\u001b[0m \u001b[38;5;28mself\u001b[39m\u001b[38;5;241m.\u001b[39msize_bytes \u001b[38;5;241m=\u001b[39m unpacked[\u001b[38;5;241m5\u001b[39m]\n",
      "File \u001b[0;32m~/packages/midas/python/midas/event.py:298\u001b[0m, in \u001b[0;36m<genexpr>\u001b[0;34m(.0)\u001b[0m\n\u001b[1;32m    282\u001b[0m \u001b[38;5;124;03m\"\"\"\u001b[39;00m\n\u001b[1;32m    283\u001b[0m \u001b[38;5;124;03mFill this `EventHeader` object from a set of bytes.\u001b[39;00m\n\u001b[1;32m    284\u001b[0m \u001b[38;5;124;03m\u001b[39;00m\n\u001b[0;32m   (...)\u001b[0m\n\u001b[1;32m    294\u001b[0m \u001b[38;5;124;03m    None (but the attributes of this object have been filled)\u001b[39;00m\n\u001b[1;32m    295\u001b[0m \u001b[38;5;124;03m\"\"\"\u001b[39;00m\n\u001b[1;32m    296\u001b[0m unpacked \u001b[38;5;241m=\u001b[39m struct\u001b[38;5;241m.\u001b[39munpack(\u001b[38;5;28mself\u001b[39m\u001b[38;5;241m.\u001b[39mget_pack_fmt(is_bank_32, is_64bit_aligned), bank_header_data)\n\u001b[0;32m--> 298\u001b[0m \u001b[38;5;28mself\u001b[39m\u001b[38;5;241m.\u001b[39mname \u001b[38;5;241m=\u001b[39m \u001b[38;5;124m\"\u001b[39m\u001b[38;5;124m\"\u001b[39m\u001b[38;5;241m.\u001b[39mjoin(\u001b[43mx\u001b[49m\u001b[38;5;241;43m.\u001b[39;49m\u001b[43mdecode\u001b[49m\u001b[43m(\u001b[49m\u001b[38;5;124;43m'\u001b[39;49m\u001b[38;5;124;43mascii\u001b[39;49m\u001b[38;5;124;43m'\u001b[39;49m\u001b[43m)\u001b[49m \u001b[38;5;28;01mfor\u001b[39;00m x \u001b[38;5;129;01min\u001b[39;00m unpacked[:\u001b[38;5;241m4\u001b[39m])\n\u001b[1;32m    299\u001b[0m \u001b[38;5;28mself\u001b[39m\u001b[38;5;241m.\u001b[39mtype \u001b[38;5;241m=\u001b[39m unpacked[\u001b[38;5;241m4\u001b[39m]\n\u001b[1;32m    300\u001b[0m \u001b[38;5;28mself\u001b[39m\u001b[38;5;241m.\u001b[39msize_bytes \u001b[38;5;241m=\u001b[39m unpacked[\u001b[38;5;241m5\u001b[39m]\n",
      "\u001b[0;31mUnicodeDecodeError\u001b[0m: 'ascii' codec can't decode byte 0x99 in position 0: ordinal not in range(128)"
     ]
    }
   ],
   "source": [
    "save = 0\n",
    "tit  = 1\n",
    "run  = 955\n",
    "nimage = 0 # number of the image\n",
    "\n",
    "mfile = cy.open_mid(run=run, path='/data01/data/', cloud=False, tag='LNGS', verbose=True)\n",
    "\n",
    "for event in mfile:\n",
    "    if event.header.is_midas_internal_event():\n",
    "        print(\"Saw a special event\")\n",
    "        continue\n",
    "\n",
    "    bank_names = \", \".join(b.name for b in event.banks.values())\n",
    "    #print(\"Event # %s of type ID %s contains banks %s\" % (event.header.serial_number, event.header.event_id, bank_names))\n",
    "    #print(\"Received event with timestamp %s containing banks %s\" % (event.header.timestamp, bank_names))\n",
    "    #print(\"%s, banks %s\" % (datetime.utcfromtimestamp(event.header.timestamp).strftime('%Y-%m-%d %H:%M:%S'), bank_names))\n",
    "\n",
    "    for bank_name, bank in event.banks.items():\n",
    "        \n",
    "        if bank_name=='CAM0': # CAM image\n",
    "            if event.header.serial_number == nimage:\n",
    "                image, _, _ = cy.daq_cam2array(bank)\n",
    "\n",
    "                fig = plt.figure(figsize=(12,12))\n",
    "                if tit:\n",
    "                    plt.title(\"I%d Run%d\" % (event.header.serial_number, int(run)))\n",
    "                plt.imshow(image,  cmap=\"gray\", vmin=95,vmax=115)\n",
    "                plt.axis('off')\n",
    "                plt.show()"
   ]
  },
  {
   "cell_type": "code",
   "execution_count": null,
   "id": "2f45d6bd",
   "metadata": {},
   "outputs": [],
   "source": [
    "import mysql.connector\n",
    "connection = mysql.connector.connect(\n",
    "  host=os.environ['MYSQL_IP'],\n",
    "  user=os.environ['MYSQL_USER'],\n",
    "  password=os.environ['MYSQL_PASSWORD'],\n",
    "  database=os.environ['MYSQL_DATABASE'],\n",
    "  port=int(os.environ['MYSQL_PORT'])\n",
    ")\n",
    "def update_sql_value(connection, table_name, raw_element, raw_element_condition, colum_element):\n",
    "    \n",
    "def update_replica_status_sql(connection, table_name, df):\n",
    "    \n",
    "    mycursor=connection.cursor()\n",
    "    mycursor.execute(\"SHOW TABLES LIKE '\"+table_name+\"'\")\n",
    "    result = mycursor.fetchone()\n",
    "    if not result:\n",
    "        cols = \"`,`\".join([str(i) for i in df.columns.tolist()])\n",
    "        db_to_crete = \"CREATE TABLE `\"+table_name+\"` (\"+' '.join([\"`\"+x+\"` REAL,\" for x in df.columns.tolist()])[:-1]+\")\"\n",
    "        print (\"[Table {:s} created into SQL Server]\".format(table_name))\n",
    "        mycursor = connection.cursor()\n",
    "        mycursor.execute(db_to_crete)\n",
    "\n",
    "    cols = \"`,`\".join([str(i) for i in df.columns.tolist()])\n",
    "\n",
    "    for i,row in df.iterrows():\n",
    "        # UPDATE `Runlog` SET `storage_local_status` = 1 WHERE `run_number` = 268;\n",
    "        sql = \"INSERT INTO `\"+table_name+\"` (`\" +cols + \"`) VALUES (\" + \"%s,\"*(len(row)-1) + \"%s)\"\n",
    "        mycursor.execute(sql, tuple(row.astype(str)))\n",
    "        connection.commit()\n",
    "\n",
    "    mycursor.close()"
   ]
  }
 ],
 "metadata": {
  "kernelspec": {
   "display_name": "Python 3 (ipykernel)",
   "language": "python",
   "name": "python3"
  },
  "language_info": {
   "codemirror_mode": {
    "name": "ipython",
    "version": 3
   },
   "file_extension": ".py",
   "mimetype": "text/x-python",
   "name": "python",
   "nbconvert_exporter": "python",
   "pygments_lexer": "ipython3",
   "version": "3.8.10"
  }
 },
 "nbformat": 4,
 "nbformat_minor": 5
}
