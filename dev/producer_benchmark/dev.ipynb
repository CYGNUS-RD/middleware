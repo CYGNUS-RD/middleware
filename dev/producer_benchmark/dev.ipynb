{
 "cells": [
  {
   "cell_type": "code",
   "execution_count": 10,
   "id": "48ac9e7d-719e-4169-ac5f-079f005c0e78",
   "metadata": {},
   "outputs": [],
   "source": [
    "import os\n",
    "\n",
    "data_payload = os.listdir(\"./data/\")"
   ]
  },
  {
   "cell_type": "code",
   "execution_count": 12,
   "id": "f4fe5707-c642-43b2-b18b-005c0a4ccaff",
   "metadata": {},
   "outputs": [],
   "source": [
    "data_payload = sorted(data_payload)"
   ]
  },
  {
   "cell_type": "code",
   "execution_count": 13,
   "id": "a87aa445-172f-4e10-9136-4a61c2a1ed8b",
   "metadata": {},
   "outputs": [
    {
     "name": "stdout",
     "output_type": "stream",
     "text": [
      "01Mb.dat\n",
      "02Mb.dat\n",
      "03Mb.dat\n",
      "04Mb.dat\n",
      "05Mb.dat\n",
      "06Mb.dat\n",
      "07Mb.dat\n",
      "08Mb.dat\n",
      "09Mb.dat\n",
      "10Mb.dat\n",
      "11Mb.dat\n",
      "12Mb.dat\n",
      "13Mb.dat\n",
      "14Mb.dat\n",
      "15Mb.dat\n"
     ]
    }
   ],
   "source": [
    "for i, payload in enumerate(data_payload):\n",
    "    print(payload)"
   ]
  },
  {
   "cell_type": "code",
   "execution_count": 1,
   "id": "946a8d37-d27e-4a34-b921-1f0c05f76b08",
   "metadata": {},
   "outputs": [],
   "source": [
    "import multiprocessing"
   ]
  },
  {
   "cell_type": "code",
   "execution_count": 5,
   "id": "6ebd709c",
   "metadata": {},
   "outputs": [
    {
     "name": "stdout",
     "output_type": "stream",
     "text": [
      "END\n"
     ]
    }
   ],
   "source": [
    "def ftodo():\n",
    "    import time\n",
    "    time.sleep(4)\n",
    "    print(\"END\")\n",
    "    return\n",
    "queue = multiprocessing.Queue(maxsize=100)\n",
    "\n",
    "queue.put(ftodo(), block=True, timeout=None)"
   ]
  },
  {
   "cell_type": "code",
   "execution_count": 7,
   "id": "a1e8a00f",
   "metadata": {},
   "outputs": [
    {
     "name": "stdout",
     "output_type": "stream",
     "text": [
      "Consumer: RunningProducer: Running\n",
      "\n",
      "Consumer: got nothing, waiting a while...\n",
      "Consumer: got nothing, waiting a while...\n",
      "Consumer: got nothing, waiting a while...\n",
      "Consumer: got nothing, waiting a while...\n",
      "Consumer: got nothing, waiting a while...\n",
      "Consumer: got nothing, waiting a while...\n",
      "Consumer: got nothing, waiting a while...\n",
      "Consumer: got nothing, waiting a while...\n",
      ">got 0.6082237548476385\n",
      "Consumer: got nothing, waiting a while...\n",
      "Consumer: got nothing, waiting a while...\n",
      "Consumer: got nothing, waiting a while...\n",
      "Consumer: got nothing, waiting a while...\n",
      "Consumer: got nothing, waiting a while...\n",
      "Consumer: got nothing, waiting a while...\n",
      "Consumer: got nothing, waiting a while...\n",
      "Consumer: got nothing, waiting a while...\n",
      ">got 0.5944210517004711\n",
      "Consumer: got nothing, waiting a while...\n",
      "Consumer: got nothing, waiting a while...\n",
      "Consumer: got nothing, waiting a while...\n",
      "Consumer: got nothing, waiting a while...\n",
      "Consumer: got nothing, waiting a while...\n",
      "Consumer: got nothing, waiting a while...\n",
      "Consumer: got nothing, waiting a while...\n",
      "Consumer: got nothing, waiting a while...\n",
      ">got 0.7333083795076222\n",
      "Consumer: got nothing, waiting a while...\n",
      "Consumer: got nothing, waiting a while...\n",
      "Consumer: got nothing, waiting a while...\n",
      "Consumer: got nothing, waiting a while...\n",
      "Consumer: got nothing, waiting a while...\n",
      "Consumer: got nothing, waiting a while...\n",
      "Consumer: got nothing, waiting a while...\n",
      "Consumer: got nothing, waiting a while...\n",
      ">got 0.9492408550808853\n",
      "Consumer: got nothing, waiting a while...\n",
      "Consumer: got nothing, waiting a while...\n",
      "Consumer: got nothing, waiting a while...\n",
      "Consumer: got nothing, waiting a while...\n",
      "Consumer: got nothing, waiting a while...\n",
      "Consumer: got nothing, waiting a while...\n",
      "Consumer: got nothing, waiting a while...\n",
      "Consumer: got nothing, waiting a while...\n",
      ">got 0.8594567397072023\n",
      "Consumer: got nothing, waiting a while...\n",
      "Consumer: got nothing, waiting a while...\n",
      "Consumer: got nothing, waiting a while...\n",
      "Consumer: got nothing, waiting a while...\n",
      "Consumer: got nothing, waiting a while...\n",
      "Consumer: got nothing, waiting a while...\n",
      "Consumer: got nothing, waiting a while...\n",
      "Consumer: got nothing, waiting a while...\n",
      ">got 0.8208930698528113\n",
      "Consumer: got nothing, waiting a while...\n",
      "Consumer: got nothing, waiting a while...\n",
      "Consumer: got nothing, waiting a while...\n",
      "Consumer: got nothing, waiting a while...\n",
      "Consumer: got nothing, waiting a while...\n",
      "Consumer: got nothing, waiting a while...\n",
      "Consumer: got nothing, waiting a while...\n",
      "Consumer: got nothing, waiting a while...\n",
      ">got 0.772707432110031\n",
      "Consumer: got nothing, waiting a while...\n",
      "Consumer: got nothing, waiting a while...\n",
      "Consumer: got nothing, waiting a while...\n",
      "Consumer: got nothing, waiting a while...\n",
      "Consumer: got nothing, waiting a while...\n",
      "Consumer: got nothing, waiting a while...\n",
      "Consumer: got nothing, waiting a while...\n",
      "Consumer: got nothing, waiting a while...\n",
      ">got 0.13060623050109754\n",
      "Consumer: got nothing, waiting a while...\n",
      "Consumer: got nothing, waiting a while...\n",
      "Consumer: got nothing, waiting a while...\n",
      "Consumer: got nothing, waiting a while...\n",
      "Consumer: got nothing, waiting a while...\n",
      "Consumer: got nothing, waiting a while...\n",
      "Consumer: got nothing, waiting a while...\n",
      "Consumer: got nothing, waiting a while...\n",
      ">got 0.8537036944072317\n",
      "Consumer: got nothing, waiting a while...\n",
      "Consumer: got nothing, waiting a while...\n",
      "Consumer: got nothing, waiting a while...\n",
      "Consumer: got nothing, waiting a while...\n",
      "Consumer: got nothing, waiting a while...\n",
      "Consumer: got nothing, waiting a while...\n",
      "Consumer: got nothing, waiting a while...\n",
      "Consumer: got nothing, waiting a while...\n",
      "Producer: Done\n",
      ">got 0.2824141503021911\n",
      "Consumer: Done\n"
     ]
    }
   ],
   "source": [
    "# SuperFastPython.com\n",
    "# example of using the queue between processes without blocking\n",
    "from time import sleep\n",
    "from random import random\n",
    "from multiprocessing import Process\n",
    "from multiprocessing import Queue\n",
    "from queue import Empty\n",
    " \n",
    "# generate work\n",
    "def producer(queue):\n",
    "    print('Producer: Running', flush=True)\n",
    "    # generate work\n",
    "    for i in range(10):\n",
    "        # generate a value\n",
    "        value = random()\n",
    "        # block\n",
    "        sleep(value)\n",
    "        # add to the queue\n",
    "        queue.put(value)\n",
    "    # all done\n",
    "    queue.put(None)\n",
    "    print('Producer: Done', flush=True)\n",
    " \n",
    "# consume work\n",
    "def consumer(queue):\n",
    "    print('Consumer: Running', flush=True)\n",
    "    # consume work\n",
    "    while True:\n",
    "        # get a unit of work\n",
    "        try:\n",
    "            item = queue.get(block=False)\n",
    "        except Empty:\n",
    "            print('Consumer: got nothing, waiting a while...', flush=True)\n",
    "            sleep(0.5)\n",
    "            continue\n",
    "        # check for stop\n",
    "        if item is None:\n",
    "            break\n",
    "        # report\n",
    "        print(f'>got {item}', flush=True)\n",
    "    # all done\n",
    "    print('Consumer: Done', flush=True)\n",
    " \n",
    "# entry point\n",
    "if __name__ == '__main__':\n",
    "    # create the shared queue\n",
    "    queue = Queue()\n",
    "    # start the consumer process\n",
    "    consumer_process = Process(target=consumer, args=(queue,))\n",
    "    consumer_process.start()\n",
    "    # start the producer process\n",
    "    producer_process = Process(target=producer, args=(queue,))\n",
    "    producer_process.start()\n",
    "    # wait for all processes to finish\n",
    "    producer_process.join()\n",
    "    consumer_process.join()"
   ]
  },
  {
   "cell_type": "code",
   "execution_count": null,
   "id": "f4e4d570",
   "metadata": {},
   "outputs": [],
   "source": []
  }
 ],
 "metadata": {
  "kernelspec": {
   "display_name": "Python 3 (ipykernel)",
   "language": "python",
   "name": "python3"
  },
  "language_info": {
   "codemirror_mode": {
    "name": "ipython",
    "version": 3
   },
   "file_extension": ".py",
   "mimetype": "text/x-python",
   "name": "python",
   "nbconvert_exporter": "python",
   "pygments_lexer": "ipython3",
   "version": "3.8.10"
  }
 },
 "nbformat": 4,
 "nbformat_minor": 5
}
