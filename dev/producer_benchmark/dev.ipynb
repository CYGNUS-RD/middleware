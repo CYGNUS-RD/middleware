{
 "cells": [
  {
   "cell_type": "code",
   "execution_count": 10,
   "id": "48ac9e7d-719e-4169-ac5f-079f005c0e78",
   "metadata": {},
   "outputs": [],
   "source": [
    "import os\n",
    "\n",
    "data_payload = os.listdir(\"./data/\")"
   ]
  },
  {
   "cell_type": "code",
   "execution_count": 12,
   "id": "f4fe5707-c642-43b2-b18b-005c0a4ccaff",
   "metadata": {},
   "outputs": [],
   "source": [
    "data_payload = sorted(data_payload)"
   ]
  },
  {
   "cell_type": "code",
   "execution_count": 13,
   "id": "a87aa445-172f-4e10-9136-4a61c2a1ed8b",
   "metadata": {},
   "outputs": [
    {
     "name": "stdout",
     "output_type": "stream",
     "text": [
      "01Mb.dat\n",
      "02Mb.dat\n",
      "03Mb.dat\n",
      "04Mb.dat\n",
      "05Mb.dat\n",
      "06Mb.dat\n",
      "07Mb.dat\n",
      "08Mb.dat\n",
      "09Mb.dat\n",
      "10Mb.dat\n",
      "11Mb.dat\n",
      "12Mb.dat\n",
      "13Mb.dat\n",
      "14Mb.dat\n",
      "15Mb.dat\n"
     ]
    }
   ],
   "source": [
    "for i, payload in enumerate(data_payload):\n",
    "    print(payload)"
   ]
  },
  {
   "cell_type": "code",
   "execution_count": null,
   "id": "946a8d37-d27e-4a34-b921-1f0c05f76b08",
   "metadata": {},
   "outputs": [],
   "source": []
  }
 ],
 "metadata": {
  "kernelspec": {
   "display_name": "Python 3 (ipykernel)",
   "language": "python",
   "name": "python3"
  },
  "language_info": {
   "codemirror_mode": {
    "name": "ipython",
    "version": 3
   },
   "file_extension": ".py",
   "mimetype": "text/x-python",
   "name": "python",
   "nbconvert_exporter": "python",
   "pygments_lexer": "ipython3",
   "version": "3.10.8"
  }
 },
 "nbformat": 4,
 "nbformat_minor": 5
}
