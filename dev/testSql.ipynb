{
 "cells": [
  {
   "cell_type": "code",
   "execution_count": 28,
   "id": "b4bb7af8",
   "metadata": {},
   "outputs": [],
   "source": [
    "#\n",
    "# required to connect  \n",
    "#\n",
    "import mysql.connector\n",
    "import os\n",
    "connection = mysql.connector.connect(\n",
    "  host=os.environ['MYSQL_IP'],\n",
    "  user=os.environ['MYSQL_USER'],\n",
    "  password=os.environ['MYSQL_PASSWORD'],\n",
    "  database=os.environ['MYSQL_DATABASE'],\n",
    "  port=int(os.environ['MYSQL_PORT'])\n",
    ")\n",
    "\n",
    "def push_panda_table_sql(connection, table_name, df):\n",
    "    \n",
    "    mycursor=connection.cursor()\n",
    "    mycursor.execute(\"SHOW TABLES LIKE '\"+table_name+\"'\")\n",
    "    result = mycursor.fetchone()\n",
    "    if not result:\n",
    "        cols = \"`,`\".join([str(i) for i in df.columns.tolist()])\n",
    "        db_to_crete = \"CREATE TABLE `\"+table_name+\"` (\"+' '.join([\"`\"+x+\"` REAL,\" for x in df.columns.tolist()])[:-1]+\")\"\n",
    "        print (\"[Table {:s} created into SQL Server]\".format(table_name))\n",
    "        mycursor = connection.cursor()\n",
    "        mycursor.execute(db_to_crete)\n",
    "\n",
    "    cols = \"`,`\".join([str(i) for i in df.columns.tolist()])\n",
    "\n",
    "    for i,row in df.iterrows():\n",
    "        sql = \"INSERT INTO `\"+table_name+\"` (`\" +cols + \"`) VALUES (\" + \"%s,\"*(len(row)-1) + \"%s)\"\n",
    "        mycursor.execute(sql, tuple(row.astype(str)))\n",
    "        connection.commit()\n",
    "\n",
    "    mycursor.close()\n",
    "\n",
    "\n",
    "def update_sql_value(connection, table_name, row_element, row_element_condition, \n",
    "                     colum_element, value, verbose=False):\n",
    "\n",
    "    sql = \"UPDATE `\"+table_name+\"` SET `\"+colum_element+\"` = \"+ \\\n",
    "    str(value)+\" WHERE `\"+row_element+\"` = \"+str(row_element_condition)+\";\"\n",
    "    if verbose: print(sql)\n",
    "    try:\n",
    "        mycursor = connection.cursor()\n",
    "        mycursor.execute(sql)\n",
    "        connection.commit()\n",
    "        if verbose: print(mycursor.rowcount, \"Update done\")\n",
    "        mycursor.close()\n",
    "        return 0\n",
    "    except:\n",
    "        return 1\n",
    "    \n",
    "# update_sql_value(connection, table_name=\"Runlog\", \n",
    "#                  row_element=\"run_number\", \n",
    "#                  row_element_condition=268, \n",
    "#                  colum_element=\"storage_local_status\", \n",
    "#                  value=4, verbose=True)\n",
    "def update_runlog_replica_status(run_number, storage, status=-1, verbose=False):\n",
    "    if storage==\"local\":\n",
    "        storage=\"storage_local_status\"\n",
    "    elif storage==\"cloud\":\n",
    "        storage=\"storage_cloud_status\"\n",
    "    elif storage==\"tape\":\n",
    "        storage=\"storage_tape_status\"\n",
    "    else:\n",
    "        return 1\n",
    "    if verbose: print(\"Storage: \"+storage)\n",
    "    return update_sql_value(connection, table_name=\"Runlog\", row_element=\"run_number\", \n",
    "                     row_element_condition=run_number, \n",
    "                     colum_element=storage, value=status, \n",
    "                     verbose=verbose)\n",
    "     \n",
    "    "
   ]
  },
  {
   "cell_type": "code",
   "execution_count": 32,
   "id": "c7f78c05",
   "metadata": {},
   "outputs": [
    {
     "data": {
      "text/plain": [
       "0"
      ]
     },
     "execution_count": 32,
     "metadata": {},
     "output_type": "execute_result"
    }
   ],
   "source": [
    "update_runlog_replica_status(run_number=268, storage=\"local\", status=-1, verbose=False)"
   ]
  },
  {
   "cell_type": "code",
   "execution_count": null,
   "id": "586e165a",
   "metadata": {},
   "outputs": [],
   "source": []
  }
 ],
 "metadata": {
  "kernelspec": {
   "display_name": "Python 3 (ipykernel)",
   "language": "python",
   "name": "python3"
  },
  "language_info": {
   "codemirror_mode": {
    "name": "ipython",
    "version": 3
   },
   "file_extension": ".py",
   "mimetype": "text/x-python",
   "name": "python",
   "nbconvert_exporter": "python",
   "pygments_lexer": "ipython3",
   "version": "3.8.10"
  }
 },
 "nbformat": 4,
 "nbformat_minor": 5
}
