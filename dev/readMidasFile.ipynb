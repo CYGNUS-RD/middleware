{
 "cells": [
  {
   "cell_type": "code",
   "execution_count": 3,
   "id": "988b158d",
   "metadata": {},
   "outputs": [
    {
     "name": "stdout",
     "output_type": "stream",
     "text": [
      "/run01069.mid.gz\n",
      "/run01069.mid.gz\n",
      "Saw a special event\n",
      "Event # 0 of type ID 3 contains banks DMND, MSRD, CRNT, STAT, TPTR\n",
      "Received event with timestamp 1670417793 containing banks DMND, MSRD, CRNT, STAT, TPTR\n",
      "2022-12-07 12:56:33, banks DMND, MSRD, CRNT, STAT, TPTR\n",
      "Event # 0 of type ID 4 contains banks DMND, MSRD, CRNT, STAT, TPTR\n",
      "Received event with timestamp 1670417793 containing banks DMND, MSRD, CRNT, STAT, TPTR\n",
      "2022-12-07 12:56:33, banks DMND, MSRD, CRNT, STAT, TPTR\n",
      "Event # 0 of type ID 1 contains banks DIG0, DGH0, CAM0\n",
      "Received event with timestamp 1670417794 containing banks DIG0, DGH0, CAM0\n",
      "2022-12-07 12:56:34, banks DIG0, DGH0, CAM0\n",
      "(10, 32, 1024)\n",
      "Event # 0 of type ID 101 contains banks TCAM\n",
      "Received event with timestamp 1670417795 containing banks TCAM\n",
      "2022-12-07 12:56:35, banks TCAM\n",
      "Event # 1 of type ID 1 contains banks DIG0, DGH0, CAM0\n",
      "Received event with timestamp 1670417795 containing banks DIG0, DGH0, CAM0\n",
      "2022-12-07 12:56:35, banks DIG0, DGH0, CAM0\n",
      "(10, 32, 1024)\n",
      "Event # 2 of type ID 1 contains banks DIG0, DGH0, CAM0\n",
      "Received event with timestamp 1670417795 containing banks DIG0, DGH0, CAM0\n",
      "2022-12-07 12:56:35, banks DIG0, DGH0, CAM0\n",
      "(11, 32, 1024)\n",
      "Event # 3 of type ID 1 contains banks DIG0, DGH0, CAM0\n",
      "Received event with timestamp 1670417796 containing banks DIG0, DGH0, CAM0\n",
      "2022-12-07 12:56:36, banks DIG0, DGH0, CAM0\n",
      "(10, 32, 1024)\n",
      "Event # 4 of type ID 1 contains banks DIG0, DGH0, CAM0\n",
      "Received event with timestamp 1670417797 containing banks DIG0, DGH0, CAM0\n",
      "2022-12-07 12:56:37, banks DIG0, DGH0, CAM0\n",
      "(10, 32, 1024)\n",
      "Event # 5 of type ID 1 contains banks DIG0, DGH0, CAM0\n",
      "Received event with timestamp 1670417797 containing banks DIG0, DGH0, CAM0\n",
      "2022-12-07 12:56:37, banks DIG0, DGH0, CAM0\n",
      "(11, 32, 1024)\n",
      "Event # 6 of type ID 1 contains banks DIG0, DGH0, CAM0\n",
      "Received event with timestamp 1670417798 containing banks DIG0, DGH0, CAM0\n",
      "2022-12-07 12:56:38, banks DIG0, DGH0, CAM0\n",
      "(10, 32, 1024)\n",
      "Event # 7 of type ID 1 contains banks DIG0, DGH0, CAM0\n",
      "Received event with timestamp 1670417798 containing banks DIG0, DGH0, CAM0\n",
      "2022-12-07 12:56:38, banks DIG0, DGH0, CAM0\n",
      "(10, 32, 1024)\n",
      "Event # 8 of type ID 1 contains banks DIG0, DGH0, CAM0\n",
      "Received event with timestamp 1670417799 containing banks DIG0, DGH0, CAM0\n",
      "2022-12-07 12:56:39, banks DIG0, DGH0, CAM0\n",
      "(10, 32, 1024)\n",
      "Event # 9 of type ID 1 contains banks DIG0, DGH0, CAM0\n",
      "Received event with timestamp 1670417799 containing banks DIG0, DGH0, CAM0\n",
      "2022-12-07 12:56:39, banks DIG0, DGH0, CAM0\n",
      "(11, 32, 1024)\n",
      "Event # 10 of type ID 1 contains banks DIG0, DGH0, CAM0\n",
      "Received event with timestamp 1670417800 containing banks DIG0, DGH0, CAM0\n",
      "2022-12-07 12:56:40, banks DIG0, DGH0, CAM0\n",
      "(10, 32, 1024)\n"
     ]
    },
    {
     "ename": "EOFError",
     "evalue": "Compressed file ended before the end-of-stream marker was reached",
     "output_type": "error",
     "traceback": [
      "\u001b[0;31m---------------------------------------------------------------------------\u001b[0m",
      "\u001b[0;31mEOFError\u001b[0m                                  Traceback (most recent call last)",
      "Input \u001b[0;32mIn [3]\u001b[0m, in \u001b[0;36m<cell line: 11>\u001b[0;34m()\u001b[0m\n\u001b[1;32m      8\u001b[0m \u001b[38;5;66;03m#mfile = cy.open_mid(run=1386, path='/data01/data/', cloud=False, tag='TMP', verbose=True)\u001b[39;00m\n\u001b[1;32m      9\u001b[0m mfile \u001b[38;5;241m=\u001b[39m cy\u001b[38;5;241m.\u001b[39mopen_mid(run\u001b[38;5;241m=\u001b[39m\u001b[38;5;241m1069\u001b[39m, path\u001b[38;5;241m=\u001b[39m\u001b[38;5;124m'\u001b[39m\u001b[38;5;124m/data01/data/\u001b[39m\u001b[38;5;124m'\u001b[39m, cloud\u001b[38;5;241m=\u001b[39m\u001b[38;5;28;01mFalse\u001b[39;00m, tag\u001b[38;5;241m=\u001b[39m\u001b[38;5;124m'\u001b[39m\u001b[38;5;124m'\u001b[39m, verbose\u001b[38;5;241m=\u001b[39m\u001b[38;5;28;01mTrue\u001b[39;00m)\n\u001b[0;32m---> 11\u001b[0m \u001b[38;5;28;01mfor\u001b[39;00m event \u001b[38;5;129;01min\u001b[39;00m mfile:\n\u001b[1;32m     12\u001b[0m     \u001b[38;5;28;01mif\u001b[39;00m event\u001b[38;5;241m.\u001b[39mheader\u001b[38;5;241m.\u001b[39mis_midas_internal_event():\n\u001b[1;32m     13\u001b[0m         \u001b[38;5;28mprint\u001b[39m(\u001b[38;5;124m\"\u001b[39m\u001b[38;5;124mSaw a special event\u001b[39m\u001b[38;5;124m\"\u001b[39m)\n",
      "File \u001b[0;32m/home/software/midas/python/midas/file_reader.py:160\u001b[0m, in \u001b[0;36mMidasFile.__next__\u001b[0;34m(self)\u001b[0m\n\u001b[1;32m    156\u001b[0m \u001b[38;5;28;01mdef\u001b[39;00m \u001b[38;5;21m__next__\u001b[39m(\u001b[38;5;28mself\u001b[39m):\n\u001b[1;32m    157\u001b[0m     \u001b[38;5;124;03m\"\"\"\u001b[39;00m\n\u001b[1;32m    158\u001b[0m \u001b[38;5;124;03m    Iterable interface for looping through events.\u001b[39;00m\n\u001b[1;32m    159\u001b[0m \u001b[38;5;124;03m    \"\"\"\u001b[39;00m\n\u001b[0;32m--> 160\u001b[0m     ev \u001b[38;5;241m=\u001b[39m \u001b[38;5;28;43mself\u001b[39;49m\u001b[38;5;241;43m.\u001b[39;49m\u001b[43mread_next_event\u001b[49m\u001b[43m(\u001b[49m\u001b[43m)\u001b[49m\n\u001b[1;32m    162\u001b[0m     \u001b[38;5;28;01mif\u001b[39;00m \u001b[38;5;129;01mnot\u001b[39;00m ev:\n\u001b[1;32m    163\u001b[0m         \u001b[38;5;28;01mraise\u001b[39;00m \u001b[38;5;167;01mStopIteration\u001b[39;00m()\n",
      "File \u001b[0;32m/home/software/midas/python/midas/file_reader.py:267\u001b[0m, in \u001b[0;36mMidasFile.read_next_event\u001b[0;34m(self)\u001b[0m\n\u001b[1;32m    259\u001b[0m \u001b[38;5;124;03m\"\"\"\u001b[39;00m\n\u001b[1;32m    260\u001b[0m \u001b[38;5;124;03mRead the header and content of the next event.\u001b[39;00m\n\u001b[1;32m    261\u001b[0m \u001b[38;5;124;03mMay be slow if there is a lot of data.\u001b[39;00m\n\u001b[0;32m   (...)\u001b[0m\n\u001b[1;32m    264\u001b[0m \u001b[38;5;124;03m    `Event`, of None if no more events left.\u001b[39;00m\n\u001b[1;32m    265\u001b[0m \u001b[38;5;124;03m\"\"\"\u001b[39;00m\n\u001b[1;32m    266\u001b[0m \u001b[38;5;28;01mif\u001b[39;00m \u001b[38;5;28mself\u001b[39m\u001b[38;5;241m.\u001b[39mread_next_event_header():\n\u001b[0;32m--> 267\u001b[0m     \u001b[38;5;28;01mreturn\u001b[39;00m \u001b[38;5;28;43mself\u001b[39;49m\u001b[38;5;241;43m.\u001b[39;49m\u001b[43mread_this_event_body\u001b[49m\u001b[43m(\u001b[49m\u001b[43m)\u001b[49m\n\u001b[1;32m    268\u001b[0m \u001b[38;5;28;01melse\u001b[39;00m:\n\u001b[1;32m    269\u001b[0m     \u001b[38;5;28;01mreturn\u001b[39;00m \u001b[38;5;28;01mNone\u001b[39;00m\n",
      "File \u001b[0;32m/home/software/midas/python/midas/file_reader.py:309\u001b[0m, in \u001b[0;36mMidasFile.read_this_event_body\u001b[0;34m(self)\u001b[0m\n\u001b[1;32m    300\u001b[0m \u001b[38;5;124;03m\"\"\"\u001b[39;00m\n\u001b[1;32m    301\u001b[0m \u001b[38;5;124;03mRead the data of the current event (that you've already read the header info of).\u001b[39;00m\n\u001b[1;32m    302\u001b[0m \u001b[38;5;124;03m\u001b[39;00m\n\u001b[0;32m   (...)\u001b[0m\n\u001b[1;32m    306\u001b[0m \u001b[38;5;124;03m    `Event` (with both the header and body populated)\u001b[39;00m\n\u001b[1;32m    307\u001b[0m \u001b[38;5;124;03m\"\"\"\u001b[39;00m\n\u001b[1;32m    308\u001b[0m \u001b[38;5;28mself\u001b[39m\u001b[38;5;241m.\u001b[39mfile\u001b[38;5;241m.\u001b[39mseek(\u001b[38;5;28mself\u001b[39m\u001b[38;5;241m.\u001b[39mthis_event_payload_offset, \u001b[38;5;241m0\u001b[39m)\n\u001b[0;32m--> 309\u001b[0m body_data \u001b[38;5;241m=\u001b[39m \u001b[38;5;28;43mself\u001b[39;49m\u001b[38;5;241;43m.\u001b[39;49m\u001b[43mfile\u001b[49m\u001b[38;5;241;43m.\u001b[39;49m\u001b[43mread\u001b[49m\u001b[43m(\u001b[49m\u001b[38;5;28;43mself\u001b[39;49m\u001b[38;5;241;43m.\u001b[39;49m\u001b[43mevent\u001b[49m\u001b[38;5;241;43m.\u001b[39;49m\u001b[43mheader\u001b[49m\u001b[38;5;241;43m.\u001b[39;49m\u001b[43mevent_data_size_bytes\u001b[49m\u001b[43m)\u001b[49m\n\u001b[1;32m    310\u001b[0m \u001b[38;5;28mself\u001b[39m\u001b[38;5;241m.\u001b[39mevent\u001b[38;5;241m.\u001b[39munpack_body(body_data, \u001b[38;5;241m0\u001b[39m, \u001b[38;5;28mself\u001b[39m\u001b[38;5;241m.\u001b[39muse_numpy)\n\u001b[1;32m    311\u001b[0m \u001b[38;5;28;01mreturn\u001b[39;00m \u001b[38;5;28mself\u001b[39m\u001b[38;5;241m.\u001b[39mevent\n",
      "File \u001b[0;32m/usr/lib/python3.8/gzip.py:292\u001b[0m, in \u001b[0;36mGzipFile.read\u001b[0;34m(self, size)\u001b[0m\n\u001b[1;32m    290\u001b[0m     \u001b[38;5;28;01mimport\u001b[39;00m \u001b[38;5;21;01merrno\u001b[39;00m\n\u001b[1;32m    291\u001b[0m     \u001b[38;5;28;01mraise\u001b[39;00m \u001b[38;5;167;01mOSError\u001b[39;00m(errno\u001b[38;5;241m.\u001b[39mEBADF, \u001b[38;5;124m\"\u001b[39m\u001b[38;5;124mread() on write-only GzipFile object\u001b[39m\u001b[38;5;124m\"\u001b[39m)\n\u001b[0;32m--> 292\u001b[0m \u001b[38;5;28;01mreturn\u001b[39;00m \u001b[38;5;28;43mself\u001b[39;49m\u001b[38;5;241;43m.\u001b[39;49m\u001b[43m_buffer\u001b[49m\u001b[38;5;241;43m.\u001b[39;49m\u001b[43mread\u001b[49m\u001b[43m(\u001b[49m\u001b[43msize\u001b[49m\u001b[43m)\u001b[49m\n",
      "File \u001b[0;32m/usr/lib/python3.8/_compression.py:68\u001b[0m, in \u001b[0;36mDecompressReader.readinto\u001b[0;34m(self, b)\u001b[0m\n\u001b[1;32m     66\u001b[0m \u001b[38;5;28;01mdef\u001b[39;00m \u001b[38;5;21mreadinto\u001b[39m(\u001b[38;5;28mself\u001b[39m, b):\n\u001b[1;32m     67\u001b[0m     \u001b[38;5;28;01mwith\u001b[39;00m \u001b[38;5;28mmemoryview\u001b[39m(b) \u001b[38;5;28;01mas\u001b[39;00m view, view\u001b[38;5;241m.\u001b[39mcast(\u001b[38;5;124m\"\u001b[39m\u001b[38;5;124mB\u001b[39m\u001b[38;5;124m\"\u001b[39m) \u001b[38;5;28;01mas\u001b[39;00m byte_view:\n\u001b[0;32m---> 68\u001b[0m         data \u001b[38;5;241m=\u001b[39m \u001b[38;5;28;43mself\u001b[39;49m\u001b[38;5;241;43m.\u001b[39;49m\u001b[43mread\u001b[49m\u001b[43m(\u001b[49m\u001b[38;5;28;43mlen\u001b[39;49m\u001b[43m(\u001b[49m\u001b[43mbyte_view\u001b[49m\u001b[43m)\u001b[49m\u001b[43m)\u001b[49m\n\u001b[1;32m     69\u001b[0m         byte_view[:\u001b[38;5;28mlen\u001b[39m(data)] \u001b[38;5;241m=\u001b[39m data\n\u001b[1;32m     70\u001b[0m     \u001b[38;5;28;01mreturn\u001b[39;00m \u001b[38;5;28mlen\u001b[39m(data)\n",
      "File \u001b[0;32m/usr/lib/python3.8/gzip.py:498\u001b[0m, in \u001b[0;36m_GzipReader.read\u001b[0;34m(self, size)\u001b[0m\n\u001b[1;32m    496\u001b[0m         \u001b[38;5;28;01mbreak\u001b[39;00m\n\u001b[1;32m    497\u001b[0m     \u001b[38;5;28;01mif\u001b[39;00m buf \u001b[38;5;241m==\u001b[39m \u001b[38;5;124mb\u001b[39m\u001b[38;5;124m\"\u001b[39m\u001b[38;5;124m\"\u001b[39m:\n\u001b[0;32m--> 498\u001b[0m         \u001b[38;5;28;01mraise\u001b[39;00m \u001b[38;5;167;01mEOFError\u001b[39;00m(\u001b[38;5;124m\"\u001b[39m\u001b[38;5;124mCompressed file ended before the \u001b[39m\u001b[38;5;124m\"\u001b[39m\n\u001b[1;32m    499\u001b[0m                        \u001b[38;5;124m\"\u001b[39m\u001b[38;5;124mend-of-stream marker was reached\u001b[39m\u001b[38;5;124m\"\u001b[39m)\n\u001b[1;32m    501\u001b[0m \u001b[38;5;28mself\u001b[39m\u001b[38;5;241m.\u001b[39m_add_read_data( uncompress )\n\u001b[1;32m    502\u001b[0m \u001b[38;5;28mself\u001b[39m\u001b[38;5;241m.\u001b[39m_pos \u001b[38;5;241m+\u001b[39m\u001b[38;5;241m=\u001b[39m \u001b[38;5;28mlen\u001b[39m(uncompress)\n",
      "\u001b[0;31mEOFError\u001b[0m: Compressed file ended before the end-of-stream marker was reached"
     ]
    }
   ],
   "source": [
    "import midas.file_reader\n",
    "from datetime import datetime\n",
    "import numpy as np\n",
    "from matplotlib import pyplot as plt\n",
    "import cygno as cy\n",
    "import time\n",
    "\n",
    "#mfile = cy.open_mid(run=1386, path='/data01/data/', cloud=False, tag='TMP', verbose=True)\n",
    "mfile = cy.open_mid(run=1069, path='/data01/data/', cloud=False, tag='', verbose=True)\n",
    "\n",
    "for event in mfile:\n",
    "    if event.header.is_midas_internal_event():\n",
    "        print(\"Saw a special event\")\n",
    "        continue\n",
    "\n",
    "    bank_names = \", \".join(b.name for b in event.banks.values())\n",
    "    print(\"Event # %s of type ID %s contains banks %s\" % (event.header.serial_number, event.header.event_id, bank_names))\n",
    "    print(\"Received event with timestamp %s containing banks %s\" % (event.header.timestamp, bank_names))\n",
    "    print(\"%s, banks %s\" % (datetime.utcfromtimestamp(event.header.timestamp).strftime('%Y-%m-%d %H:%M:%S'), bank_names))\n",
    "\n",
    "    for bank_name, bank in event.banks.items():\n",
    "        if bank_name=='DGH0': # PMTs wavform \n",
    "            header = cy.daq_dgz2header(bank)\n",
    "            print (header)\n",
    "            waveform = cy.daq_dgz2array(event.banks['DIG0'], header)\n",
    "        if bank_name=='CAM0': # CAM image\n",
    "            image, _, _ = cy.daq_cam2array(bank)\n",
    "#             plt.figure(figsize=(8,8))\n",
    "#             plt.imshow(image, vmin=95, vmax=120)\n",
    "#             plt.show()\n",
    "        if bank_name=='INPT': # SLOW channels array\n",
    "            slow = cy.daq_slow2array(bank)"
   ]
  },
  {
   "cell_type": "code",
   "execution_count": 1,
   "id": "fc5f1817",
   "metadata": {},
   "outputs": [
    {
     "name": "stdout",
     "output_type": "stream",
     "text": [
      "rm: cannot remove '/tmp/run01386.mid.gz': No such file or directory\r\n"
     ]
    }
   ],
   "source": [
    "!rm /tmp/run01386.mid.gz"
   ]
  },
  {
   "cell_type": "code",
   "execution_count": null,
   "id": "0c9db7cd",
   "metadata": {},
   "outputs": [],
   "source": []
  }
 ],
 "metadata": {
  "kernelspec": {
   "display_name": "Python 3 (ipykernel)",
   "language": "python",
   "name": "python3"
  },
  "language_info": {
   "codemirror_mode": {
    "name": "ipython",
    "version": 3
   },
   "file_extension": ".py",
   "mimetype": "text/x-python",
   "name": "python",
   "nbconvert_exporter": "python",
   "pygments_lexer": "ipython3",
   "version": "3.8.10"
  }
 },
 "nbformat": 4,
 "nbformat_minor": 5
}
